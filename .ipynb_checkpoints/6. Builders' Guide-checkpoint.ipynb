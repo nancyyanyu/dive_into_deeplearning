{
 "cells": [
  {
   "cell_type": "code",
   "execution_count": 1,
   "id": "d135bd53",
   "metadata": {
    "ExecuteTime": {
     "end_time": "2023-03-29T20:48:23.970788Z",
     "start_time": "2023-03-29T20:48:16.115411Z"
    }
   },
   "outputs": [
    {
     "name": "stderr",
     "output_type": "stream",
     "text": [
      "2023-03-30 06:21:05.283087: I tensorflow/core/platform/cpu_feature_guard.cc:193] This TensorFlow binary is optimized with oneAPI Deep Neural Network Library (oneDNN) to use the following CPU instructions in performance-critical operations:  AVX2 FMA\n",
      "To enable them in other operations, rebuild TensorFlow with the appropriate compiler flags.\n",
      "2023-03-30 06:21:12.545353: W tensorflow/compiler/xla/stream_executor/platform/default/dso_loader.cc:64] Could not load dynamic library 'libnvinfer.so.7'; dlerror: libnvinfer.so.7: cannot open shared object file: No such file or directory; LD_LIBRARY_PATH: /usr/local/nvidia/lib:/usr/local/nvidia/lib64\n",
      "2023-03-30 06:21:12.545830: W tensorflow/compiler/xla/stream_executor/platform/default/dso_loader.cc:64] Could not load dynamic library 'libnvinfer_plugin.so.7'; dlerror: libnvinfer_plugin.so.7: cannot open shared object file: No such file or directory; LD_LIBRARY_PATH: /usr/local/nvidia/lib:/usr/local/nvidia/lib64\n",
      "2023-03-30 06:21:12.545881: W tensorflow/compiler/tf2tensorrt/utils/py_utils.cc:38] TF-TRT Warning: Cannot dlopen some TensorRT libraries. If you would like to use Nvidia GPU with TensorRT, please make sure the missing libraries mentioned above are installed properly.\n"
     ]
    }
   ],
   "source": [
    "import tensorflow as tf"
   ]
  },
  {
   "cell_type": "code",
   "execution_count": 2,
   "id": "edfaf4ec",
   "metadata": {
    "ExecuteTime": {
     "end_time": "2023-03-29T20:49:08.833527Z",
     "start_time": "2023-03-29T20:49:08.729448Z"
    }
   },
   "outputs": [
    {
     "name": "stderr",
     "output_type": "stream",
     "text": [
      "2023-03-29 13:49:08.762190: I tensorflow/core/platform/cpu_feature_guard.cc:193] This TensorFlow binary is optimized with oneAPI Deep Neural Network Library (oneDNN) to use the following CPU instructions in performance-critical operations:  AVX2 FMA\n",
      "To enable them in other operations, rebuild TensorFlow with the appropriate compiler flags.\n"
     ]
    }
   ],
   "source": [
    "net = tf.keras.models.Sequential([\n",
    "    tf.keras.layers.Dense(256, activation=tf.nn.relu),\n",
    "    tf.keras.layers.Dense(10)\n",
    "])"
   ]
  },
  {
   "cell_type": "code",
   "execution_count": 5,
   "id": "a7cade5c",
   "metadata": {
    "ExecuteTime": {
     "end_time": "2023-03-29T20:49:51.051451Z",
     "start_time": "2023-03-29T20:49:50.939763Z"
    }
   },
   "outputs": [
    {
     "data": {
      "text/plain": [
       "TensorShape([2, 10])"
      ]
     },
     "execution_count": 5,
     "metadata": {},
     "output_type": "execute_result"
    }
   ],
   "source": [
    "X = tf.random.uniform((2, 20))\n",
    "net(X).shape"
   ]
  },
  {
   "cell_type": "markdown",
   "id": "2d70af23",
   "metadata": {},
   "source": [
    "# Layers and Modules"
   ]
  },
  {
   "cell_type": "markdown",
   "id": "575576ed",
   "metadata": {},
   "source": [
    "## A Custom Module\n",
    "The basic functionality that each module must provide:\n",
    "\n",
    "1. Ingest input data as arguments to its forward propagation method.\n",
    "\n",
    "2. Generate an output by having the forward propagation method return a value. Note that the output may have a different shape from the input. For example, the first fully connected layer in our model above ingests an input of arbitrary dimension but returns an output of dimension 256.\n",
    "\n",
    "3. Calculate the gradient of its output with respect to its input, which can be accessed via its backpropagation method. Typically this happens automatically.\n",
    "\n",
    "4. Store and provide access to those parameters necessary to execute the forward propagation computation.\n",
    "\n",
    "5. Initialize model parameters as needed."
   ]
  },
  {
   "cell_type": "code",
   "execution_count": 6,
   "id": "79de892c",
   "metadata": {
    "ExecuteTime": {
     "end_time": "2023-03-30T04:02:15.074050Z",
     "start_time": "2023-03-30T04:02:15.061486Z"
    }
   },
   "outputs": [],
   "source": [
    "class MLP(tf.keras.Model):\n",
    "    def __init__(self):\n",
    "        # Call the constructor of the parent class tf.keras.Model to perform\n",
    "        # the necessary initialization\n",
    "        super().__init__()\n",
    "        self.hidden = tf.keras.layers.Dense(256, activation=tf.nn.relu)\n",
    "        self.out = tf.keras.layers.Dense(10)\n",
    "\n",
    "    # Define the forward propagation of the model, that is, how to return the\n",
    "    # required model output based on the input X\n",
    "    def call(self, X):\n",
    "        return self.out(self.hidden(X))"
   ]
  },
  {
   "cell_type": "code",
   "execution_count": 7,
   "id": "faa20582",
   "metadata": {
    "ExecuteTime": {
     "end_time": "2023-03-30T04:02:30.212921Z",
     "start_time": "2023-03-30T04:02:30.111042Z"
    }
   },
   "outputs": [
    {
     "data": {
      "text/plain": [
       "TensorShape([2, 10])"
      ]
     },
     "execution_count": 7,
     "metadata": {},
     "output_type": "execute_result"
    }
   ],
   "source": [
    "net = MLP()\n",
    "net(X).shape"
   ]
  },
  {
   "cell_type": "markdown",
   "id": "8bd8b272",
   "metadata": {},
   "source": [
    "## The Sequential Module"
   ]
  },
  {
   "cell_type": "code",
   "execution_count": 8,
   "id": "16a995d0",
   "metadata": {
    "ExecuteTime": {
     "end_time": "2023-03-30T04:04:13.233183Z",
     "start_time": "2023-03-30T04:04:13.229588Z"
    }
   },
   "outputs": [],
   "source": [
    "class MySequential(tf.keras.Model):\n",
    "    def __init__(self, *args):\n",
    "        super().__init__()\n",
    "        self.modules = args\n",
    "\n",
    "    def call(self, X):\n",
    "        for module in self.modules:\n",
    "            X = module(X)\n",
    "        return X"
   ]
  },
  {
   "cell_type": "code",
   "execution_count": 9,
   "id": "cb0e8a29",
   "metadata": {
    "ExecuteTime": {
     "end_time": "2023-03-30T04:05:12.763424Z",
     "start_time": "2023-03-30T04:05:12.744937Z"
    }
   },
   "outputs": [
    {
     "data": {
      "text/plain": [
       "TensorShape([2, 10])"
      ]
     },
     "execution_count": 9,
     "metadata": {},
     "output_type": "execute_result"
    }
   ],
   "source": [
    "net = MySequential(tf.keras.layers.Dense(256, activation=tf.nn.relu),\n",
    "                   tf.keras.layers.Dense(10))\n",
    "net(X).shape"
   ]
  },
  {
   "cell_type": "markdown",
   "id": "00479707",
   "metadata": {},
   "source": [
    "## Executing Code in the Forward Propagation Method\n",
    "\n",
    "we want a layer that calculates the function $f(\\mathbf{x}, \\mathbf{w})=c \\cdot \\mathbf{w}^T \\mathbf{x}$\n",
    ", where $\\mathbf{x}$ is the input, $\\mathbf{w}$ is our parameter, and $c$ is some specified constant that is not updated during optimization. "
   ]
  },
  {
   "cell_type": "code",
   "execution_count": 10,
   "id": "14640559",
   "metadata": {
    "ExecuteTime": {
     "end_time": "2023-03-30T04:14:42.741287Z",
     "start_time": "2023-03-30T04:14:42.736217Z"
    }
   },
   "outputs": [],
   "source": [
    "class FixedHiddenMLP(tf.keras.Model):\n",
    "    def __init__(self):\n",
    "        super().__init__()\n",
    "        self.flatten = tf.keras.layers.Flatten()\n",
    "        # Random weight parameters created with tf.constant are not updated\n",
    "        # during training (i.e., constant parameters)\n",
    "        self.rand_weight = tf.constant(tf.random.uniform((20, 20)))\n",
    "        self.dense = tf.keras.layers.Dense(20, activation=tf.nn.relu)\n",
    "\n",
    "    def call(self, X):\n",
    "        X = self.flatten(X)\n",
    "        # Use the created constant parameters, as well as the relu and\n",
    "        # matmul functions\n",
    "        X = tf.nn.relu(tf.matmul(X, self.rand_weight) + 1)\n",
    "        X = self.dense(X)\n",
    "\n",
    "        # Control flow\n",
    "        while tf.reduce_sum(tf.math.abs(X)) > 1:\n",
    "            X /= 2\n",
    "        return tf.reduce_sum(X)"
   ]
  },
  {
   "cell_type": "code",
   "execution_count": 11,
   "id": "6e6e9161",
   "metadata": {
    "ExecuteTime": {
     "end_time": "2023-03-30T04:15:11.027506Z",
     "start_time": "2023-03-30T04:15:10.933331Z"
    }
   },
   "outputs": [
    {
     "data": {
      "text/plain": [
       "<tf.Tensor: shape=(), dtype=float32, numpy=0.6434067>"
      ]
     },
     "execution_count": 11,
     "metadata": {},
     "output_type": "execute_result"
    }
   ],
   "source": [
    "net = FixedHiddenMLP()\n",
    "net(X)"
   ]
  },
  {
   "cell_type": "markdown",
   "id": "a70aa020",
   "metadata": {},
   "source": [
    "mix and match various ways of assembling modules together"
   ]
  },
  {
   "cell_type": "code",
   "execution_count": 12,
   "id": "03369cb0",
   "metadata": {
    "ExecuteTime": {
     "end_time": "2023-03-30T04:17:20.267370Z",
     "start_time": "2023-03-30T04:17:20.263054Z"
    }
   },
   "outputs": [],
   "source": [
    "class NestMLP(tf.keras.Model):\n",
    "    def __init__(self):\n",
    "        super().__init__()\n",
    "        self.net = tf.keras.Sequential()\n",
    "        self.net.add(tf.keras.layers.Dense(64, activation=tf.nn.relu))\n",
    "        self.net.add(tf.keras.layers.Dense(32, activation=tf.nn.relu))\n",
    "        self.dense = tf.keras.layers.Dense(16, activation=tf.nn.relu)\n",
    "\n",
    "    def call(self, X):\n",
    "        return self.dense(self.net(X))"
   ]
  },
  {
   "cell_type": "code",
   "execution_count": 13,
   "id": "0f1a6fb6",
   "metadata": {
    "ExecuteTime": {
     "end_time": "2023-03-30T04:18:11.042138Z",
     "start_time": "2023-03-30T04:18:10.770503Z"
    }
   },
   "outputs": [
    {
     "data": {
      "text/plain": [
       "<tf.Tensor: shape=(), dtype=float32, numpy=0.574469>"
      ]
     },
     "execution_count": 13,
     "metadata": {},
     "output_type": "execute_result"
    }
   ],
   "source": [
    "chimera = tf.keras.Sequential()\n",
    "chimera.add(NestMLP())\n",
    "chimera.add(tf.keras.layers.Dense(20))\n",
    "chimera.add(FixedHiddenMLP())\n",
    "chimera(X)"
   ]
  },
  {
   "cell_type": "markdown",
   "id": "2b618840",
   "metadata": {},
   "source": [
    "# Parameter Management\n",
    "\n",
    "- Accessing parameters for debugging, diagnostics, and visualizations.\n",
    "\n",
    "- Sharing parameters across different model components."
   ]
  },
  {
   "cell_type": "code",
   "execution_count": 14,
   "id": "190cacb0",
   "metadata": {
    "ExecuteTime": {
     "end_time": "2023-03-30T04:21:42.244962Z",
     "start_time": "2023-03-30T04:21:42.200953Z"
    }
   },
   "outputs": [
    {
     "data": {
      "text/plain": [
       "TensorShape([2, 1])"
      ]
     },
     "execution_count": 14,
     "metadata": {},
     "output_type": "execute_result"
    }
   ],
   "source": [
    "net = tf.keras.models.Sequential([\n",
    "    tf.keras.layers.Flatten(),\n",
    "    tf.keras.layers.Dense(4, activation=tf.nn.relu),\n",
    "    tf.keras.layers.Dense(1)\n",
    "])\n",
    "\n",
    "X = tf.random.uniform((2, 4))\n",
    "net(X).shape"
   ]
  },
  {
   "cell_type": "markdown",
   "id": "b55fdf12",
   "metadata": {},
   "source": [
    "## Parameter Access\n",
    "When a model is defined via the `Sequential` class, we can first access any layer by indexing into the model as though it were a list. Each layer’s parameters are conveniently located in its attribute."
   ]
  },
  {
   "cell_type": "code",
   "execution_count": 23,
   "id": "2ab50949",
   "metadata": {
    "ExecuteTime": {
     "end_time": "2023-03-30T04:25:55.637843Z",
     "start_time": "2023-03-30T04:25:55.632558Z"
    }
   },
   "outputs": [
    {
     "data": {
      "text/plain": [
       "[<tf.Variable 'dense_13/kernel:0' shape=(4, 1) dtype=float32, numpy=\n",
       " array([[-0.9095521 ],\n",
       "        [-1.0702254 ],\n",
       "        [ 0.16246808],\n",
       "        [-0.49569738]], dtype=float32)>,\n",
       " <tf.Variable 'dense_13/bias:0' shape=(1,) dtype=float32, numpy=array([0.], dtype=float32)>]"
      ]
     },
     "execution_count": 23,
     "metadata": {},
     "output_type": "execute_result"
    }
   ],
   "source": [
    "net.layers[2].weights"
   ]
  },
  {
   "cell_type": "markdown",
   "id": "35f97772",
   "metadata": {
    "ExecuteTime": {
     "end_time": "2023-03-30T04:26:26.474445Z",
     "start_time": "2023-03-30T04:26:26.469681Z"
    }
   },
   "source": [
    "### Targeted Parameters - access the underlying numerical values"
   ]
  },
  {
   "cell_type": "code",
   "execution_count": 25,
   "id": "5a93e36c",
   "metadata": {
    "ExecuteTime": {
     "end_time": "2023-03-30T04:26:26.474445Z",
     "start_time": "2023-03-30T04:26:26.469681Z"
    }
   },
   "outputs": [
    {
     "data": {
      "text/plain": [
       "tensorflow.python.ops.resource_variable_ops.ResourceVariable"
      ]
     },
     "execution_count": 25,
     "metadata": {},
     "output_type": "execute_result"
    }
   ],
   "source": [
    "type(net.layers[2].weights[1])"
   ]
  },
  {
   "cell_type": "code",
   "execution_count": 26,
   "id": "94235b4f",
   "metadata": {
    "ExecuteTime": {
     "end_time": "2023-03-30T04:26:34.788538Z",
     "start_time": "2023-03-30T04:26:34.783374Z"
    }
   },
   "outputs": [
    {
     "data": {
      "text/plain": [
       "<tf.Tensor: shape=(1,), dtype=float32, numpy=array([0.], dtype=float32)>"
      ]
     },
     "execution_count": 26,
     "metadata": {},
     "output_type": "execute_result"
    }
   ],
   "source": [
    "tf.convert_to_tensor(net.layers[2].weights[1])"
   ]
  },
  {
   "cell_type": "markdown",
   "id": "58a475e8",
   "metadata": {},
   "source": [
    "### All Parameters at Once"
   ]
  },
  {
   "cell_type": "code",
   "execution_count": 27,
   "id": "0d67a700",
   "metadata": {
    "ExecuteTime": {
     "end_time": "2023-03-30T04:27:19.464157Z",
     "start_time": "2023-03-30T04:27:19.457811Z"
    }
   },
   "outputs": [
    {
     "data": {
      "text/plain": [
       "[array([[ 0.27454692, -0.71919805, -0.1618939 , -0.06235301],\n",
       "        [ 0.7343103 ,  0.38332385,  0.802774  ,  0.82870907],\n",
       "        [-0.44232085,  0.19790345,  0.19437641,  0.23844534],\n",
       "        [ 0.23141378,  0.37618   ,  0.7395182 ,  0.10106611]],\n",
       "       dtype=float32),\n",
       " array([0., 0., 0., 0.], dtype=float32),\n",
       " array([[-0.9095521 ],\n",
       "        [-1.0702254 ],\n",
       "        [ 0.16246808],\n",
       "        [-0.49569738]], dtype=float32),\n",
       " array([0.], dtype=float32)]"
      ]
     },
     "execution_count": 27,
     "metadata": {},
     "output_type": "execute_result"
    }
   ],
   "source": [
    "net.get_weights()"
   ]
  },
  {
   "cell_type": "markdown",
   "id": "e43081a4",
   "metadata": {},
   "source": [
    "## Tied Parameters\n",
    "share parameters across multiple layers.\n",
    "\n",
    "This example shows that the parameters of the second and third layer are tied. They are not just equal, they are represented by the same exact tensor. Thus, if we change one of the parameters, the other one changes, too."
   ]
  },
  {
   "cell_type": "code",
   "execution_count": 29,
   "id": "ef5d9234",
   "metadata": {
    "ExecuteTime": {
     "end_time": "2023-03-30T04:30:44.309658Z",
     "start_time": "2023-03-30T04:30:44.278718Z"
    }
   },
   "outputs": [
    {
     "name": "stdout",
     "output_type": "stream",
     "text": [
      "True\n"
     ]
    }
   ],
   "source": [
    "shared = tf.keras.layers.Dense(4, activation=tf.nn.relu)\n",
    "net = tf.keras.models.Sequential([\n",
    "    tf.keras.layers.Flatten(),\n",
    "    shared,\n",
    "    shared,\n",
    "    tf.keras.layers.Dense(1)\n",
    "])\n",
    "net(X)\n",
    "print(len(net.layers) == 3)"
   ]
  },
  {
   "cell_type": "markdown",
   "id": "9e1fdbb7",
   "metadata": {},
   "source": [
    "when parameters are tied what happens to the gradients? Since the model parameters contain gradients, the gradients of the second hidden layer and the third hidden layer are added together during backpropagation."
   ]
  },
  {
   "cell_type": "markdown",
   "id": "66efa331",
   "metadata": {},
   "source": [
    "# Parameter Initialization\n",
    "By default, Keras initializes weight matrices uniformly by drawing from a range that is computed according to the input and output dimension, and the bias parameters are all set to zero."
   ]
  },
  {
   "cell_type": "code",
   "execution_count": 30,
   "id": "3a74ebe7",
   "metadata": {
    "ExecuteTime": {
     "end_time": "2023-03-30T04:33:17.040109Z",
     "start_time": "2023-03-30T04:33:17.010944Z"
    }
   },
   "outputs": [
    {
     "data": {
      "text/plain": [
       "<tf.Tensor: shape=(2, 1), dtype=float32, numpy=\n",
       "array([[0.29267216],\n",
       "       [0.3371871 ]], dtype=float32)>"
      ]
     },
     "execution_count": 30,
     "metadata": {},
     "output_type": "execute_result"
    }
   ],
   "source": [
    "net = tf.keras.models.Sequential([\n",
    "    tf.keras.layers.Flatten(),\n",
    "    tf.keras.layers.Dense(4, activation=tf.nn.relu),\n",
    "    tf.keras.layers.Dense(1)\n",
    "])\n",
    "\n",
    "X = tf.random.uniform((2, 4))\n",
    "net(X)"
   ]
  },
  {
   "cell_type": "markdown",
   "id": "715dc1e7",
   "metadata": {},
   "source": [
    "## Built-in Initialization"
   ]
  },
  {
   "cell_type": "code",
   "execution_count": 34,
   "id": "6d37b6d2",
   "metadata": {
    "ExecuteTime": {
     "end_time": "2023-03-30T04:35:51.361437Z",
     "start_time": "2023-03-30T04:35:51.323124Z"
    }
   },
   "outputs": [
    {
     "data": {
      "text/plain": [
       "<tf.Tensor: shape=(2, 1), dtype=float32, numpy=\n",
       "array([[-0.00501987],\n",
       "       [ 0.00057448]], dtype=float32)>"
      ]
     },
     "execution_count": 34,
     "metadata": {},
     "output_type": "execute_result"
    }
   ],
   "source": [
    "net = tf.keras.models.Sequential([\n",
    "    tf.keras.layers.Flatten(),\n",
    "    tf.keras.layers.Dense(4, activation=tf.nn.relu,\n",
    "                          kernel_initializer=tf.random_normal_initializer(\n",
    "                              mean=0, stddev=0.01),\n",
    "                          bias_initializer=tf.zeros_initializer()),\n",
    "    tf.keras.layers.Dense(1)\n",
    "])\n",
    "\n",
    "net(X)"
   ]
  },
  {
   "cell_type": "code",
   "execution_count": 42,
   "id": "27447f52",
   "metadata": {
    "ExecuteTime": {
     "end_time": "2023-03-30T04:37:03.516659Z",
     "start_time": "2023-03-30T04:37:03.510515Z"
    }
   },
   "outputs": [
    {
     "data": {
      "text/plain": [
       "(<tf.Variable 'dense_26/kernel:0' shape=(4, 4) dtype=float32, numpy=\n",
       " array([[-0.01251589, -0.00526345,  0.02432222, -0.00017998],\n",
       "        [ 0.01613509,  0.00407495, -0.01105246,  0.00467974],\n",
       "        [ 0.00284544,  0.01083667,  0.00735553,  0.0048871 ],\n",
       "        [ 0.01196324, -0.01146888, -0.00694788,  0.00693432]],\n",
       "       dtype=float32)>,\n",
       " <tf.Variable 'dense_26/bias:0' shape=(4,) dtype=float32, numpy=array([0., 0., 0., 0.], dtype=float32)>)"
      ]
     },
     "execution_count": 42,
     "metadata": {},
     "output_type": "execute_result"
    }
   ],
   "source": [
    "net.layers[1].weights[0], net.layers[1].weights[1]"
   ]
  },
  {
   "cell_type": "markdown",
   "id": "995aa515",
   "metadata": {
    "ExecuteTime": {
     "end_time": "2023-03-30T04:37:25.364322Z",
     "start_time": "2023-03-30T04:37:25.357876Z"
    }
   },
   "source": [
    "We can also initialize all the parameters to a given constant value (say, 1).\n",
    "\n"
   ]
  },
  {
   "cell_type": "code",
   "execution_count": 44,
   "id": "8fe9936f",
   "metadata": {
    "ExecuteTime": {
     "end_time": "2023-03-30T04:38:21.060017Z",
     "start_time": "2023-03-30T04:38:21.030478Z"
    }
   },
   "outputs": [
    {
     "data": {
      "text/plain": [
       "<tf.Tensor: shape=(2, 1), dtype=float32, numpy=\n",
       "array([[-0.20678014],\n",
       "       [-0.13935864]], dtype=float32)>"
      ]
     },
     "execution_count": 44,
     "metadata": {},
     "output_type": "execute_result"
    }
   ],
   "source": [
    "net = tf.keras.models.Sequential([\n",
    "    tf.keras.layers.Flatten(),\n",
    "    tf.keras.layers.Dense(4, activation=tf.nn.relu,\n",
    "                          kernel_initializer=tf.keras.initializers.Constant(1),\n",
    "                          bias_initializer=tf.zeros_initializer()),\n",
    "    tf.keras.layers.Dense(1)\n",
    "])\n",
    "\n",
    "net(X)"
   ]
  },
  {
   "cell_type": "code",
   "execution_count": 45,
   "id": "f6b64d18",
   "metadata": {
    "ExecuteTime": {
     "end_time": "2023-03-30T04:38:24.585811Z",
     "start_time": "2023-03-30T04:38:24.579292Z"
    }
   },
   "outputs": [
    {
     "data": {
      "text/plain": [
       "(<tf.Variable 'dense_28/kernel:0' shape=(4, 4) dtype=float32, numpy=\n",
       " array([[1., 1., 1., 1.],\n",
       "        [1., 1., 1., 1.],\n",
       "        [1., 1., 1., 1.],\n",
       "        [1., 1., 1., 1.]], dtype=float32)>,\n",
       " <tf.Variable 'dense_28/bias:0' shape=(4,) dtype=float32, numpy=array([0., 0., 0., 0.], dtype=float32)>)"
      ]
     },
     "execution_count": 45,
     "metadata": {},
     "output_type": "execute_result"
    }
   ],
   "source": [
    "net.layers[1].weights[0], net.layers[1].weights[1]"
   ]
  },
  {
   "cell_type": "code",
   "execution_count": 48,
   "id": "16420f7b",
   "metadata": {
    "ExecuteTime": {
     "end_time": "2023-03-30T04:40:08.572694Z",
     "start_time": "2023-03-30T04:40:08.541772Z"
    }
   },
   "outputs": [
    {
     "data": {
      "text/plain": [
       "<tf.Tensor: shape=(2, 1), dtype=float32, numpy=\n",
       "array([[ 1.6291482],\n",
       "       [17.009798 ]], dtype=float32)>"
      ]
     },
     "execution_count": 48,
     "metadata": {},
     "output_type": "execute_result"
    }
   ],
   "source": [
    "net = tf.keras.models.Sequential([\n",
    "    tf.keras.layers.Flatten(),\n",
    "    tf.keras.layers.Dense(4, activation=tf.nn.relu,\n",
    "                          kernel_initializer=tf.keras.initializers.GlorotUniform()),\n",
    "    tf.keras.layers.Dense(1,\n",
    "                          kernel_initializer=tf.keras.initializers.Constant(42))\n",
    "])\n",
    "\n",
    "net(X)"
   ]
  },
  {
   "cell_type": "code",
   "execution_count": 50,
   "id": "75e64ef6",
   "metadata": {
    "ExecuteTime": {
     "end_time": "2023-03-30T04:40:28.630145Z",
     "start_time": "2023-03-30T04:40:28.623630Z"
    }
   },
   "outputs": [
    {
     "data": {
      "text/plain": [
       "(<tf.Variable 'dense_32/kernel:0' shape=(4, 4) dtype=float32, numpy=\n",
       " array([[-0.73607093, -0.03272218, -0.6821911 ,  0.384692  ],\n",
       "        [-0.1882773 , -0.15246272,  0.6166542 , -0.5230375 ],\n",
       "        [-0.1902287 , -0.41124925, -0.3214807 ,  0.5151908 ],\n",
       "        [ 0.58740205,  0.18837911, -0.6111795 , -0.0971604 ]],\n",
       "       dtype=float32)>,\n",
       " <tf.Variable 'dense_33/kernel:0' shape=(4, 1) dtype=float32, numpy=\n",
       " array([[42.],\n",
       "        [42.],\n",
       "        [42.],\n",
       "        [42.]], dtype=float32)>)"
      ]
     },
     "execution_count": 50,
     "metadata": {},
     "output_type": "execute_result"
    }
   ],
   "source": [
    "net.layers[1].weights[0], net.layers[2].weights[0]"
   ]
  },
  {
   "attachments": {
    "image.png": {
     "image/png": "[encoded data removed]"
    }
   },
   "cell_type": "markdown",
   "id": "fd1fcccd",
   "metadata": {},
   "source": [
    "## Custom Initialization\n",
    "\n",
    "define an initializer for any weight parameter using the following strange distribution:\n",
    "![image.png](attachment:image.png)"
   ]
  },
  {
   "cell_type": "code",
   "execution_count": 59,
   "id": "9c771ce0",
   "metadata": {
    "ExecuteTime": {
     "end_time": "2023-03-30T04:49:12.882855Z",
     "start_time": "2023-03-30T04:49:12.847568Z"
    }
   },
   "outputs": [
    {
     "data": {
      "text/plain": [
       "<tf.Variable 'dense_38/kernel:0' shape=(4, 4) dtype=float32, numpy=\n",
       "array([[ 0.       ,  0.       ,  0.       , -8.417983 ],\n",
       "       [-0.       , -7.755871 ,  7.3948402, -6.292293 ],\n",
       "       [ 0.       , -0.       , -0.       ,  0.       ],\n",
       "       [-0.       , -0.       ,  8.931616 ,  8.792221 ]], dtype=float32)>"
      ]
     },
     "execution_count": 59,
     "metadata": {},
     "output_type": "execute_result"
    }
   ],
   "source": [
    "# define a subclass of Initializer and\n",
    "# implement the __call__ function that\n",
    "# return a desired tensor given the shape and data type.\n",
    "class MyInit(tf.keras.initializers.Initializer):\n",
    "    def __call__(self, shape, dtype=None):\n",
    "        data = tf.random.uniform(\n",
    "            shape=shape, minval=-10, maxval=10, dtype=dtype)\n",
    "        factor = (tf.abs(data) >= 5)\n",
    "        factor = tf.cast(factor, tf.float32)\n",
    "        return data * factor\n",
    "\n",
    "\n",
    "net = tf.keras.models.Sequential([\n",
    "    tf.keras.layers.Flatten(),\n",
    "    tf.keras.layers.Dense(4, activation=tf.nn.relu,\n",
    "                          kernel_initializer=MyInit()),\n",
    "    tf.keras.layers.Dense(1)\n",
    "])\n",
    "\n",
    "net(X)\n",
    "net.layers[1].weights[0]"
   ]
  },
  {
   "cell_type": "markdown",
   "id": "301300de",
   "metadata": {},
   "source": [
    "setting parameters directly:"
   ]
  },
  {
   "cell_type": "code",
   "execution_count": 60,
   "id": "9ab66946",
   "metadata": {
    "ExecuteTime": {
     "end_time": "2023-03-30T04:49:13.868812Z",
     "start_time": "2023-03-30T04:49:13.859036Z"
    }
   },
   "outputs": [
    {
     "data": {
      "text/plain": [
       "<tf.Variable 'dense_38/kernel:0' shape=(4, 4) dtype=float32, numpy=\n",
       "array([[42.      ,  1.      ,  1.      , -7.417983],\n",
       "       [ 1.      , -6.755871,  8.39484 , -5.292293],\n",
       "       [ 1.      ,  1.      ,  1.      ,  1.      ],\n",
       "       [ 1.      ,  1.      ,  9.931616,  9.792221]], dtype=float32)>"
      ]
     },
     "execution_count": 60,
     "metadata": {},
     "output_type": "execute_result"
    }
   ],
   "source": [
    "net.layers[1].weights[0][:].assign(net.layers[1].weights[0] + 1)\n",
    "net.layers[1].weights[0][0, 0].assign(42)\n",
    "net.layers[1].weights[0]"
   ]
  },
  {
   "cell_type": "markdown",
   "id": "4081a618",
   "metadata": {},
   "source": [
    "# Lazy Initialization\n",
    "\n",
    " The trick here is that the framework defers initialization, waiting until the first time we pass data through the model, to infer the sizes of each layer on the fly."
   ]
  },
  {
   "cell_type": "code",
   "execution_count": 61,
   "id": "a944dbc3",
   "metadata": {
    "ExecuteTime": {
     "end_time": "2023-03-30T04:55:40.538623Z",
     "start_time": "2023-03-30T04:55:40.530885Z"
    }
   },
   "outputs": [],
   "source": [
    "net = tf.keras.models.Sequential([\n",
    "    tf.keras.layers.Dense(256, activation=tf.nn.relu),\n",
    "    tf.keras.layers.Dense(10)\n",
    "])"
   ]
  },
  {
   "cell_type": "markdown",
   "id": "ac0c97ab",
   "metadata": {},
   "source": [
    "At this point, the network cannot possibly know the dimensions of the input layer’s weights because the input dimension remains unknown."
   ]
  },
  {
   "cell_type": "code",
   "execution_count": 62,
   "id": "224e6445",
   "metadata": {
    "ExecuteTime": {
     "end_time": "2023-03-30T04:56:14.984141Z",
     "start_time": "2023-03-30T04:56:14.978337Z"
    }
   },
   "outputs": [
    {
     "data": {
      "text/plain": [
       "[[], []]"
      ]
     },
     "execution_count": 62,
     "metadata": {},
     "output_type": "execute_result"
    }
   ],
   "source": [
    "[net.layers[i].get_weights() for i in range(len(net.layers))]"
   ]
  },
  {
   "cell_type": "code",
   "execution_count": 64,
   "id": "19132634",
   "metadata": {
    "ExecuteTime": {
     "end_time": "2023-03-30T04:57:31.532060Z",
     "start_time": "2023-03-30T04:57:31.524016Z"
    }
   },
   "outputs": [
    {
     "data": {
      "text/plain": [
       "[(20, 256), (256,), (256, 10), (10,)]"
      ]
     },
     "execution_count": 64,
     "metadata": {},
     "output_type": "execute_result"
    }
   ],
   "source": [
    "X = tf.random.uniform((2, 20))\n",
    "net(X)\n",
    "[w.shape for w in net.get_weights()]"
   ]
  },
  {
   "cell_type": "markdown",
   "id": "d5dac951",
   "metadata": {},
   "source": [
    "# Custom Layers\n",
    "##  Layers without Parameters\n",
    "Construct a custom layer that does not have any parameters of its own"
   ]
  },
  {
   "cell_type": "code",
   "execution_count": 65,
   "id": "5cdb9231",
   "metadata": {
    "ExecuteTime": {
     "end_time": "2023-03-30T05:00:40.125080Z",
     "start_time": "2023-03-30T05:00:40.121284Z"
    }
   },
   "outputs": [],
   "source": [
    "class CenteredLayer(tf.keras.Model):\n",
    "    def __init__(self):\n",
    "        super().__init__()\n",
    "\n",
    "    def call(self, X):\n",
    "        return X - tf.reduce_mean(X)"
   ]
  },
  {
   "cell_type": "code",
   "execution_count": 66,
   "id": "c19c79a3",
   "metadata": {
    "ExecuteTime": {
     "end_time": "2023-03-30T05:01:09.338590Z",
     "start_time": "2023-03-30T05:01:09.325599Z"
    }
   },
   "outputs": [
    {
     "data": {
      "text/plain": [
       "<tf.Tensor: shape=(2, 4), dtype=float32, numpy=\n",
       "array([[-0.15093398,  0.23805869,  0.0578934 ,  0.42996526],\n",
       "       [ 0.37997603, -0.0455035 , -0.51968384, -0.38977182]],\n",
       "      dtype=float32)>"
      ]
     },
     "execution_count": 66,
     "metadata": {},
     "output_type": "execute_result"
    }
   ],
   "source": [
    "layer = CenteredLayer()\n",
    "layer(tf.random.uniform((2, 4)))"
   ]
  },
  {
   "cell_type": "markdown",
   "id": "e9fb9b24",
   "metadata": {},
   "source": [
    "Incorporate our layer as a component in constructing more complex models"
   ]
  },
  {
   "cell_type": "code",
   "execution_count": 69,
   "id": "003318ba",
   "metadata": {
    "ExecuteTime": {
     "end_time": "2023-03-30T05:03:17.160798Z",
     "start_time": "2023-03-30T05:03:17.149525Z"
    }
   },
   "outputs": [],
   "source": [
    "net = tf.keras.Sequential([tf.keras.layers.Dense(128),\n",
    "                           CenteredLayer()])"
   ]
  },
  {
   "cell_type": "code",
   "execution_count": 72,
   "id": "87a1c738",
   "metadata": {
    "ExecuteTime": {
     "end_time": "2023-03-30T05:04:36.615907Z",
     "start_time": "2023-03-30T05:04:36.609189Z"
    }
   },
   "outputs": [
    {
     "data": {
      "text/plain": [
       "<tf.Tensor: shape=(), dtype=float32, numpy=0.0>"
      ]
     },
     "execution_count": 72,
     "metadata": {},
     "output_type": "execute_result"
    }
   ],
   "source": [
    "y = net(tf.random.uniform((4, 8)))\n",
    "tf.reduce_mean(y)"
   ]
  },
  {
   "cell_type": "markdown",
   "id": "1933a584",
   "metadata": {},
   "source": [
    "## Layers with Parameters"
   ]
  },
  {
   "cell_type": "code",
   "execution_count": 74,
   "id": "e31484d8",
   "metadata": {
    "ExecuteTime": {
     "end_time": "2023-03-30T05:09:46.678831Z",
     "start_time": "2023-03-30T05:09:46.674275Z"
    }
   },
   "outputs": [],
   "source": [
    "?tf.keras.Model.build"
   ]
  },
  {
   "cell_type": "code",
   "execution_count": 95,
   "id": "0896192f",
   "metadata": {
    "ExecuteTime": {
     "end_time": "2023-03-30T05:18:05.327889Z",
     "start_time": "2023-03-30T05:18:05.323384Z"
    }
   },
   "outputs": [],
   "source": [
    "class MyDense(tf.keras.Model):\n",
    "    def __init__(self, units):\n",
    "        super().__init__()\n",
    "        self.units = units\n",
    "        \n",
    "    def build(self, X_shape):\n",
    "        # Builds the model based on input shapes received.\n",
    "        self.w = self.add_weight(name='weight',\n",
    "                                shape=[X_shape[-1], self.units],\n",
    "                                initializer=MyInit())\n",
    "        self.b = self.add_weight(name='bias',\n",
    "                                shape=[self.units],\n",
    "                                initializer=tf.zeros_initializer())\n",
    "    def call(self, X):\n",
    "        linear = tf.matmul(X, self.w) + self.b\n",
    "        return tf.nn.relu(linear)"
   ]
  },
  {
   "cell_type": "code",
   "execution_count": 96,
   "id": "4811e79f",
   "metadata": {
    "ExecuteTime": {
     "end_time": "2023-03-30T05:18:05.672754Z",
     "start_time": "2023-03-30T05:18:05.660158Z"
    }
   },
   "outputs": [
    {
     "data": {
      "text/plain": [
       "[array([[ 8.789167 ,  9.616621 ,  9.173519 ],\n",
       "        [-0.       ,  6.547964 , -6.5558147],\n",
       "        [-7.203214 , -8.105307 , -0.       ],\n",
       "        [-8.957229 , -5.525341 ,  0.       ],\n",
       "        [ 6.7042274, -0.       ,  0.       ]], dtype=float32),\n",
       " array([0., 0., 0.], dtype=float32)]"
      ]
     },
     "execution_count": 96,
     "metadata": {},
     "output_type": "execute_result"
    }
   ],
   "source": [
    "dense = MyDense(3)\n",
    "dense(tf.random.uniform((2,5)))\n",
    "dense.get_weights()"
   ]
  },
  {
   "cell_type": "markdown",
   "id": "e46411e1",
   "metadata": {
    "ExecuteTime": {
     "end_time": "2023-03-30T05:13:43.336050Z",
     "start_time": "2023-03-30T05:13:43.318862Z"
    }
   },
   "source": [
    "construct models using custom layers. "
   ]
  },
  {
   "cell_type": "code",
   "execution_count": 97,
   "id": "c3e18f11",
   "metadata": {
    "ExecuteTime": {
     "end_time": "2023-03-30T05:18:06.686381Z",
     "start_time": "2023-03-30T05:18:06.627425Z"
    }
   },
   "outputs": [
    {
     "data": {
      "text/plain": [
       "<tf.Tensor: shape=(2, 1), dtype=float32, numpy=\n",
       "array([[0.],\n",
       "       [0.]], dtype=float32)>"
      ]
     },
     "execution_count": 97,
     "metadata": {},
     "output_type": "execute_result"
    }
   ],
   "source": [
    "net = tf.keras.models.Sequential([MyDense(8), MyDense(1)])\n",
    "net(tf.random.uniform((2,64)))"
   ]
  },
  {
   "cell_type": "markdown",
   "id": "268e5bf6",
   "metadata": {},
   "source": [
    "# File I/O"
   ]
  },
  {
   "cell_type": "code",
   "execution_count": 98,
   "id": "bfa33795",
   "metadata": {
    "ExecuteTime": {
     "end_time": "2023-03-30T05:19:23.527357Z",
     "start_time": "2023-03-30T05:19:23.395920Z"
    }
   },
   "outputs": [],
   "source": [
    "x = tf.range(4)\n",
    "np.save('x-file.npy',x)"
   ]
  },
  {
   "cell_type": "code",
   "execution_count": 99,
   "id": "a3b566a2",
   "metadata": {
    "ExecuteTime": {
     "end_time": "2023-03-30T05:19:49.737865Z",
     "start_time": "2023-03-30T05:19:49.726597Z"
    }
   },
   "outputs": [
    {
     "data": {
      "text/plain": [
       "array([0, 1, 2, 3], dtype=int32)"
      ]
     },
     "execution_count": 99,
     "metadata": {},
     "output_type": "execute_result"
    }
   ],
   "source": [
    "x2 = np.load('x-file.npy', allow_pickle=True)\n",
    "x2"
   ]
  },
  {
   "cell_type": "code",
   "execution_count": 100,
   "id": "806e8707",
   "metadata": {
    "ExecuteTime": {
     "end_time": "2023-03-30T05:40:09.866499Z",
     "start_time": "2023-03-30T05:40:09.862443Z"
    }
   },
   "outputs": [],
   "source": [
    "class MLP(tf.keras.Model):\n",
    "    def __init__(self):\n",
    "        super().__init__()\n",
    "        self.flatten = tf.keras.layers.Flatten()\n",
    "        self.dense = tf.keras.layers.Dense(256, activation=tf.nn.relu)\n",
    "        self.out = tf.keras.layers.Dense(10)\n",
    "        \n",
    "    def call(self, X):\n",
    "        return self.out(self.dense(self.flatten(X)))"
   ]
  },
  {
   "cell_type": "code",
   "execution_count": 101,
   "id": "529edbe5",
   "metadata": {
    "ExecuteTime": {
     "end_time": "2023-03-30T05:40:28.794638Z",
     "start_time": "2023-03-30T05:40:28.780278Z"
    }
   },
   "outputs": [],
   "source": [
    "net = MLP()\n",
    "X = tf.random.uniform((2,20))\n",
    "Y = net(X)"
   ]
  },
  {
   "cell_type": "code",
   "execution_count": 103,
   "id": "f6414d27",
   "metadata": {
    "ExecuteTime": {
     "end_time": "2023-03-30T05:41:09.333539Z",
     "start_time": "2023-03-30T05:41:09.183436Z"
    }
   },
   "outputs": [],
   "source": [
    "# store the parameters of the model as a file with the name “mlp.params”.\n",
    "net.save_weights('./model/mlp.params')"
   ]
  },
  {
   "cell_type": "code",
   "execution_count": 105,
   "id": "fcd4a9e3",
   "metadata": {
    "ExecuteTime": {
     "end_time": "2023-03-30T05:41:35.288282Z",
     "start_time": "2023-03-30T05:41:35.261646Z"
    }
   },
   "outputs": [
    {
     "data": {
      "text/plain": [
       "<tensorflow.python.checkpoint.checkpoint.CheckpointLoadStatus at 0x15f3e93d0>"
      ]
     },
     "execution_count": 105,
     "metadata": {},
     "output_type": "execute_result"
    }
   ],
   "source": [
    "# To recover the model, we instantiate a clone of the original MLP model.\n",
    "clone = MLP()\n",
    "clone.load_weights('./model/mlp.params')"
   ]
  },
  {
   "cell_type": "code",
   "execution_count": 108,
   "id": "124abce7",
   "metadata": {
    "ExecuteTime": {
     "end_time": "2023-03-30T05:42:03.720089Z",
     "start_time": "2023-03-30T05:42:03.713437Z"
    }
   },
   "outputs": [
    {
     "data": {
      "text/plain": [
       "<tf.Tensor: shape=(2, 10), dtype=bool, numpy=\n",
       "array([[ True,  True,  True,  True,  True,  True,  True,  True,  True,\n",
       "         True],\n",
       "       [ True,  True,  True,  True,  True,  True,  True,  True,  True,\n",
       "         True]])>"
      ]
     },
     "execution_count": 108,
     "metadata": {},
     "output_type": "execute_result"
    }
   ],
   "source": [
    "Y_clone = clone(X)\n",
    "\n",
    "Y_clone == Y"
   ]
  },
  {
   "cell_type": "markdown",
   "id": "5d55f3a8",
   "metadata": {},
   "source": [
    "# GPUs"
   ]
  },
  {
   "cell_type": "markdown",
   "id": "f14c0c83",
   "metadata": {},
   "source": [
    "By default, tensors are created in the main memory and then use the CPU to calculate it."
   ]
  },
  {
   "cell_type": "code",
   "execution_count": 6,
   "id": "d7a38dcf",
   "metadata": {},
   "outputs": [],
   "source": [
    "def cpu():\n",
    "    return tf.device('/CPU:0')\n",
    "\n",
    "def gpu(i):\n",
    "    return tf.device(f'/GPU:{i}')"
   ]
  },
  {
   "cell_type": "code",
   "execution_count": 8,
   "id": "d6447fa9",
   "metadata": {},
   "outputs": [
    {
     "data": {
      "text/plain": [
       "(<tensorflow.python.eager.context._EagerDeviceContext at 0x7f048a29dec0>,\n",
       " <tensorflow.python.eager.context._EagerDeviceContext at 0x7f048a296cc0>,\n",
       " <tensorflow.python.eager.context._EagerDeviceContext at 0x7f048a29f080>)"
      ]
     },
     "execution_count": 8,
     "metadata": {},
     "output_type": "execute_result"
    }
   ],
   "source": [
    "cpu(), gpu(0), gpu(1)"
   ]
  },
  {
   "cell_type": "markdown",
   "id": "7186b9b2",
   "metadata": {},
   "source": [
    "We can query the number of available GPUs."
   ]
  },
  {
   "cell_type": "code",
   "execution_count": 13,
   "id": "dc2f2748",
   "metadata": {},
   "outputs": [
    {
     "data": {
      "text/plain": [
       "2"
      ]
     },
     "execution_count": 13,
     "metadata": {},
     "output_type": "execute_result"
    }
   ],
   "source": [
    "def num_gpus():\n",
    "    return len(tf.config.experimental.list_physical_devices('GPU'))\n",
    "num_gpus()"
   ]
  },
  {
   "cell_type": "code",
   "execution_count": 18,
   "id": "1ec40f6b",
   "metadata": {},
   "outputs": [
    {
     "data": {
      "text/plain": [
       "[<tensorflow.python.eager.context._EagerDeviceContext at 0x7f03e02feb40>,\n",
       " <tensorflow.python.eager.context._EagerDeviceContext at 0x7f03e0315980>]"
      ]
     },
     "execution_count": 18,
     "metadata": {},
     "output_type": "execute_result"
    }
   ],
   "source": [
    "def try_gpu(i=0):\n",
    "    if num_gpus() >= i + 1:\n",
    "        return gpu(i)\n",
    "    return cpu()\n",
    "\n",
    "def try_all_gpu():\n",
    "    return [gpu(i) for i in range(num_gpus())]\n",
    "\n",
    "try_all_gpu()"
   ]
  },
  {
   "cell_type": "markdown",
   "id": "bd300749",
   "metadata": {},
   "source": [
    "## Tensors and GPUs"
   ]
  },
  {
   "cell_type": "code",
   "execution_count": 19,
   "id": "365d1ab4",
   "metadata": {},
   "outputs": [
    {
     "data": {
      "text/plain": [
       "'/job:localhost/replica:0/task:0/device:GPU:0'"
      ]
     },
     "execution_count": 19,
     "metadata": {},
     "output_type": "execute_result"
    }
   ],
   "source": [
    "x = tf.constant([1,2,3])\n",
    "x.device"
   ]
  },
  {
   "cell_type": "code",
   "execution_count": 20,
   "id": "b6d5f554",
   "metadata": {},
   "outputs": [
    {
     "data": {
      "text/plain": [
       "<tf.Tensor: shape=(2, 3), dtype=float32, numpy=\n",
       "array([[1., 1., 1.],\n",
       "       [1., 1., 1.]], dtype=float32)>"
      ]
     },
     "execution_count": 20,
     "metadata": {},
     "output_type": "execute_result"
    }
   ],
   "source": [
    "# specify a storage device when creating a tensor. \n",
    "# Then create the tensor variable X on the first gpu.with try_gpu():\n",
    "    X = tf.ones((2,3))\n",
    "X"
   ]
  },
  {
   "cell_type": "code",
   "execution_count": null,
   "id": "3086e133",
   "metadata": {},
   "outputs": [],
   "source": []
  }
 ],
 "metadata": {
  "hide_input": false,
  "kernelspec": {
   "display_name": "Python 3 (ipykernel)",
   "language": "python",
   "name": "python3"
  },
  "language_info": {
   "codemirror_mode": {
    "name": "ipython",
    "version": 3
   },
   "file_extension": ".py",
   "mimetype": "text/x-python",
   "name": "python",
   "nbconvert_exporter": "python",
   "pygments_lexer": "ipython3",
   "version": "3.8.16"
  },
  "toc": {
   "base_numbering": 1,
   "nav_menu": {},
   "number_sections": true,
   "sideBar": true,
   "skip_h1_title": false,
   "title_cell": "Table of Contents",
   "title_sidebar": "Contents",
   "toc_cell": false,
   "toc_position": {},
   "toc_section_display": true,
   "toc_window_display": false
  },
  "varInspector": {
   "cols": {
    "lenName": 16,
    "lenType": 16,
    "lenVar": 40
   },
   "kernels_config": {
    "python": {
     "delete_cmd_postfix": "",
     "delete_cmd_prefix": "del ",
     "library": "var_list.py",
     "varRefreshCmd": "print(var_dic_list())"
    },
    "r": {
     "delete_cmd_postfix": ") ",
     "delete_cmd_prefix": "rm(",
     "library": "var_list.r",
     "varRefreshCmd": "cat(var_dic_list()) "
    }
   },
   "types_to_exclude": [
    "module",
    "function",
    "builtin_function_or_method",
    "instance",
    "_Feature"
   ],
   "window_display": false
  }
 },
 "nbformat": 4,
 "nbformat_minor": 5
}
