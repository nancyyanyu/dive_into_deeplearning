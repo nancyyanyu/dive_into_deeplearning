{
 "cells": [
  {
   "cell_type": "markdown",
   "id": "b8131bf9",
   "metadata": {},
   "source": [
    "# Data Manipulation"
   ]
  },
  {
   "cell_type": "code",
   "execution_count": 6,
   "id": "ee3e5190",
   "metadata": {
    "ExecuteTime": {
     "end_time": "2023-03-21T04:35:18.275332Z",
     "start_time": "2023-03-21T04:34:57.411379Z"
    }
   },
   "outputs": [
    {
     "name": "stderr",
     "output_type": "stream",
     "text": [
      "2023-03-20 21:34:57.958670: I tensorflow/core/platform/cpu_feature_guard.cc:193] This TensorFlow binary is optimized with oneAPI Deep Neural Network Library (oneDNN) to use the following CPU instructions in performance-critical operations:  AVX2 FMA\n",
      "To enable them in other operations, rebuild TensorFlow with the appropriate compiler flags.\n"
     ]
    }
   ],
   "source": [
    "import tensorflow as tf"
   ]
  },
  {
   "cell_type": "code",
   "execution_count": 9,
   "id": "8f30a4fe",
   "metadata": {
    "ExecuteTime": {
     "end_time": "2023-03-21T04:35:18.405629Z",
     "start_time": "2023-03-21T04:35:18.397007Z"
    }
   },
   "outputs": [
    {
     "data": {
      "text/plain": [
       "<tf.Tensor: shape=(12,), dtype=float32, numpy=\n",
       "array([ 0.,  1.,  2.,  3.,  4.,  5.,  6.,  7.,  8.,  9., 10., 11.],\n",
       "      dtype=float32)>"
      ]
     },
     "execution_count": 9,
     "metadata": {},
     "output_type": "execute_result"
    }
   ],
   "source": [
    "x = tf.range(12, dtype = tf.float32)\n",
    "x"
   ]
  },
  {
   "cell_type": "code",
   "execution_count": 15,
   "id": "0d56e330",
   "metadata": {
    "ExecuteTime": {
     "end_time": "2023-03-21T04:37:36.139939Z",
     "start_time": "2023-03-21T04:37:36.130058Z"
    }
   },
   "outputs": [
    {
     "data": {
      "text/plain": [
       "(<tf.Tensor: shape=(), dtype=int32, numpy=12>, TensorShape([12]))"
      ]
     },
     "execution_count": 15,
     "metadata": {},
     "output_type": "execute_result"
    }
   ],
   "source": [
    "tf.size(x),x.shape"
   ]
  },
  {
   "cell_type": "code",
   "execution_count": 16,
   "id": "14e88067",
   "metadata": {
    "ExecuteTime": {
     "end_time": "2023-03-21T04:37:44.562235Z",
     "start_time": "2023-03-21T04:37:44.556501Z"
    }
   },
   "outputs": [
    {
     "data": {
      "text/plain": [
       "<tf.Tensor: shape=(3, 4), dtype=float32, numpy=\n",
       "array([[ 0.,  1.,  2.,  3.],\n",
       "       [ 4.,  5.,  6.,  7.],\n",
       "       [ 8.,  9., 10., 11.]], dtype=float32)>"
      ]
     },
     "execution_count": 16,
     "metadata": {},
     "output_type": "execute_result"
    }
   ],
   "source": [
    "X=tf.reshape(x, (3,4))\n",
    "X"
   ]
  },
  {
   "cell_type": "code",
   "execution_count": 17,
   "id": "ca75150d",
   "metadata": {
    "ExecuteTime": {
     "end_time": "2023-03-21T04:37:53.393837Z",
     "start_time": "2023-03-21T04:37:53.388212Z"
    }
   },
   "outputs": [
    {
     "data": {
      "text/plain": [
       "<tf.Tensor: shape=(3, 4), dtype=float32, numpy=\n",
       "array([[ 0.,  1.,  2.,  3.],\n",
       "       [ 4.,  5.,  6.,  7.],\n",
       "       [ 8.,  9., 10., 11.]], dtype=float32)>"
      ]
     },
     "execution_count": 17,
     "metadata": {},
     "output_type": "execute_result"
    }
   ],
   "source": [
    "X=tf.reshape(x, (-1,4))\n",
    "X"
   ]
  },
  {
   "cell_type": "code",
   "execution_count": 18,
   "id": "5988860a",
   "metadata": {
    "ExecuteTime": {
     "end_time": "2023-03-21T04:38:27.831030Z",
     "start_time": "2023-03-21T04:38:27.824771Z"
    }
   },
   "outputs": [
    {
     "data": {
      "text/plain": [
       "<tf.Tensor: shape=(2, 3, 4), dtype=float32, numpy=\n",
       "array([[[0., 0., 0., 0.],\n",
       "        [0., 0., 0., 0.],\n",
       "        [0., 0., 0., 0.]],\n",
       "\n",
       "       [[0., 0., 0., 0.],\n",
       "        [0., 0., 0., 0.],\n",
       "        [0., 0., 0., 0.]]], dtype=float32)>"
      ]
     },
     "execution_count": 18,
     "metadata": {},
     "output_type": "execute_result"
    }
   ],
   "source": [
    "tf.zeros((2,3,4))"
   ]
  },
  {
   "cell_type": "code",
   "execution_count": 19,
   "id": "2107efc1",
   "metadata": {
    "ExecuteTime": {
     "end_time": "2023-03-21T04:38:45.549455Z",
     "start_time": "2023-03-21T04:38:45.544069Z"
    }
   },
   "outputs": [
    {
     "data": {
      "text/plain": [
       "<tf.Tensor: shape=(2, 3, 4), dtype=float32, numpy=\n",
       "array([[[1., 1., 1., 1.],\n",
       "        [1., 1., 1., 1.],\n",
       "        [1., 1., 1., 1.]],\n",
       "\n",
       "       [[1., 1., 1., 1.],\n",
       "        [1., 1., 1., 1.],\n",
       "        [1., 1., 1., 1.]]], dtype=float32)>"
      ]
     },
     "execution_count": 19,
     "metadata": {},
     "output_type": "execute_result"
    }
   ],
   "source": [
    "tf.ones((2,3,4))"
   ]
  },
  {
   "cell_type": "code",
   "execution_count": 20,
   "id": "37352f32",
   "metadata": {
    "ExecuteTime": {
     "end_time": "2023-03-21T04:41:23.177597Z",
     "start_time": "2023-03-21T04:41:23.165617Z"
    }
   },
   "outputs": [
    {
     "data": {
      "text/plain": [
       "<tf.Tensor: shape=(3, 4), dtype=float32, numpy=\n",
       "array([[-1.8208508 , -0.21593633, -0.18703723, -1.1781384 ],\n",
       "       [-0.01584292,  1.7841692 , -0.08267809, -2.5394382 ],\n",
       "       [-0.82851434,  1.4611175 , -1.4679989 ,  0.03837766]],\n",
       "      dtype=float32)>"
      ]
     },
     "execution_count": 20,
     "metadata": {},
     "output_type": "execute_result"
    }
   ],
   "source": [
    "tf.random.normal(shape = [3,4])"
   ]
  },
  {
   "cell_type": "code",
   "execution_count": 21,
   "id": "2e16b382",
   "metadata": {
    "ExecuteTime": {
     "end_time": "2023-03-21T04:41:55.512238Z",
     "start_time": "2023-03-21T04:41:55.486718Z"
    }
   },
   "outputs": [
    {
     "data": {
      "text/plain": [
       "<tf.Tensor: shape=(3, 4), dtype=int32, numpy=\n",
       "array([[2, 1, 4, 3],\n",
       "       [1, 2, 3, 4],\n",
       "       [4, 3, 2, 1]], dtype=int32)>"
      ]
     },
     "execution_count": 21,
     "metadata": {},
     "output_type": "execute_result"
    }
   ],
   "source": [
    "tf.constant([[2, 1, 4, 3], [1, 2, 3, 4], [4, 3, 2, 1]])"
   ]
  },
  {
   "cell_type": "code",
   "execution_count": 22,
   "id": "2e8a43cd",
   "metadata": {
    "ExecuteTime": {
     "end_time": "2023-03-21T04:44:16.340601Z",
     "start_time": "2023-03-21T04:44:16.336135Z"
    }
   },
   "outputs": [
    {
     "data": {
      "text/plain": [
       "<tf.Tensor: shape=(3, 4), dtype=float32, numpy=\n",
       "array([[ 0.,  1.,  2.,  3.],\n",
       "       [ 4.,  5.,  6.,  7.],\n",
       "       [ 8.,  9., 10., 11.]], dtype=float32)>"
      ]
     },
     "execution_count": 22,
     "metadata": {},
     "output_type": "execute_result"
    }
   ],
   "source": [
    "X"
   ]
  },
  {
   "cell_type": "code",
   "execution_count": 23,
   "id": "26f66f3c",
   "metadata": {
    "ExecuteTime": {
     "end_time": "2023-03-21T04:44:19.850006Z",
     "start_time": "2023-03-21T04:44:19.834688Z"
    }
   },
   "outputs": [
    {
     "data": {
      "text/plain": [
       "<tf.Tensor: shape=(4,), dtype=float32, numpy=array([ 8.,  9., 10., 11.], dtype=float32)>"
      ]
     },
     "execution_count": 23,
     "metadata": {},
     "output_type": "execute_result"
    }
   ],
   "source": [
    "X[-1]"
   ]
  },
  {
   "cell_type": "code",
   "execution_count": 24,
   "id": "12e0ad0a",
   "metadata": {
    "ExecuteTime": {
     "end_time": "2023-03-21T04:44:23.885354Z",
     "start_time": "2023-03-21T04:44:23.873638Z"
    }
   },
   "outputs": [
    {
     "data": {
      "text/plain": [
       "<tf.Tensor: shape=(2, 4), dtype=float32, numpy=\n",
       "array([[ 4.,  5.,  6.,  7.],\n",
       "       [ 8.,  9., 10., 11.]], dtype=float32)>"
      ]
     },
     "execution_count": 24,
     "metadata": {},
     "output_type": "execute_result"
    }
   ],
   "source": [
    "X[1:3]"
   ]
  },
  {
   "cell_type": "code",
   "execution_count": 28,
   "id": "c2bd0a2a",
   "metadata": {
    "ExecuteTime": {
     "end_time": "2023-03-21T04:46:03.665863Z",
     "start_time": "2023-03-21T04:46:03.660794Z"
    }
   },
   "outputs": [
    {
     "data": {
      "text/plain": [
       "<tf.Tensor: shape=(), dtype=float32, numpy=6.0>"
      ]
     },
     "execution_count": 28,
     "metadata": {},
     "output_type": "execute_result"
    }
   ],
   "source": [
    "X[1,2]"
   ]
  },
  {
   "cell_type": "markdown",
   "id": "a950d875",
   "metadata": {},
   "source": [
    "Tensors in TensorFlow are immutable, and cannot be assigned to. Variables in TensorFlow are mutable containers of state that support assignments. "
   ]
  },
  {
   "cell_type": "code",
   "execution_count": 27,
   "id": "26519cd3",
   "metadata": {
    "ExecuteTime": {
     "end_time": "2023-03-21T04:45:45.292839Z",
     "start_time": "2023-03-21T04:45:45.279716Z"
    }
   },
   "outputs": [
    {
     "data": {
      "text/plain": [
       "<tf.Variable 'Variable:0' shape=(3, 4) dtype=float32, numpy=\n",
       "array([[ 0.,  1.,  2.,  3.],\n",
       "       [ 4.,  5.,  9.,  7.],\n",
       "       [ 8.,  9., 10., 11.]], dtype=float32)>"
      ]
     },
     "execution_count": 27,
     "metadata": {},
     "output_type": "execute_result"
    }
   ],
   "source": [
    "X_var = tf.Variable(X)\n",
    "X_var[1,2].assign(9)\n",
    "X_var"
   ]
  },
  {
   "cell_type": "code",
   "execution_count": 30,
   "id": "e4885c67",
   "metadata": {
    "ExecuteTime": {
     "end_time": "2023-03-21T04:48:32.174789Z",
     "start_time": "2023-03-21T04:48:32.163231Z"
    }
   },
   "outputs": [
    {
     "data": {
      "text/plain": [
       "<tf.Variable 'Variable:0' shape=(3, 4) dtype=float32, numpy=\n",
       "array([[12., 12., 12., 12.],\n",
       "       [12., 12., 12., 12.],\n",
       "       [ 8.,  9., 10., 11.]], dtype=float32)>"
      ]
     },
     "execution_count": 30,
     "metadata": {},
     "output_type": "execute_result"
    }
   ],
   "source": [
    "X_var = tf.Variable(X)\n",
    "X_var[:2,:].assign(tf.ones(X_var[:2,:].shape, dtype=tf.float32) *12)\n",
    "X_var"
   ]
  },
  {
   "cell_type": "code",
   "execution_count": 31,
   "id": "ce7f044c",
   "metadata": {
    "ExecuteTime": {
     "end_time": "2023-03-21T04:49:41.609969Z",
     "start_time": "2023-03-21T04:49:41.598675Z"
    }
   },
   "outputs": [
    {
     "data": {
      "text/plain": [
       "<tf.Tensor: shape=(12,), dtype=float32, numpy=\n",
       "array([1.0000000e+00, 2.7182817e+00, 7.3890562e+00, 2.0085537e+01,\n",
       "       5.4598148e+01, 1.4841316e+02, 4.0342877e+02, 1.0966332e+03,\n",
       "       2.9809580e+03, 8.1030835e+03, 2.2026465e+04, 5.9874141e+04],\n",
       "      dtype=float32)>"
      ]
     },
     "execution_count": 31,
     "metadata": {},
     "output_type": "execute_result"
    }
   ],
   "source": [
    "tf.exp(x)"
   ]
  },
  {
   "cell_type": "code",
   "execution_count": 32,
   "id": "27f21aa6",
   "metadata": {
    "ExecuteTime": {
     "end_time": "2023-03-21T04:49:45.731566Z",
     "start_time": "2023-03-21T04:49:45.726666Z"
    }
   },
   "outputs": [
    {
     "data": {
      "text/plain": [
       "<tf.Tensor: shape=(12,), dtype=float32, numpy=\n",
       "array([ 0.,  1.,  2.,  3.,  4.,  5.,  6.,  7.,  8.,  9., 10., 11.],\n",
       "      dtype=float32)>"
      ]
     },
     "execution_count": 32,
     "metadata": {},
     "output_type": "execute_result"
    }
   ],
   "source": [
    "x"
   ]
  },
  {
   "cell_type": "code",
   "execution_count": 35,
   "id": "a6ebbc7b",
   "metadata": {
    "ExecuteTime": {
     "end_time": "2023-03-21T04:51:03.341458Z",
     "start_time": "2023-03-21T04:51:03.330529Z"
    }
   },
   "outputs": [
    {
     "data": {
      "text/plain": [
       "(<tf.Tensor: shape=(4,), dtype=float32, numpy=array([ 3.,  4.,  6., 10.], dtype=float32)>,\n",
       " <tf.Tensor: shape=(4,), dtype=float32, numpy=array([0.5, 1. , 2. , 4. ], dtype=float32)>)"
      ]
     },
     "execution_count": 35,
     "metadata": {},
     "output_type": "execute_result"
    }
   ],
   "source": [
    "x = tf.constant([1.0, 2, 4, 8])\n",
    "y = tf.constant([2.0, 2, 2, 2])\n",
    "x+y,x/y"
   ]
  },
  {
   "cell_type": "code",
   "execution_count": 36,
   "id": "578f4d49",
   "metadata": {
    "ExecuteTime": {
     "end_time": "2023-03-21T04:53:21.342220Z",
     "start_time": "2023-03-21T04:53:21.324142Z"
    }
   },
   "outputs": [
    {
     "data": {
      "text/plain": [
       "(<tf.Tensor: shape=(6, 4), dtype=float32, numpy=\n",
       " array([[ 0.,  1.,  2.,  3.],\n",
       "        [ 4.,  5.,  6.,  7.],\n",
       "        [ 8.,  9., 10., 11.],\n",
       "        [ 2.,  1.,  4.,  3.],\n",
       "        [ 1.,  2.,  3.,  4.],\n",
       "        [ 4.,  3.,  2.,  1.]], dtype=float32)>,\n",
       " <tf.Tensor: shape=(3, 8), dtype=float32, numpy=\n",
       " array([[ 0.,  1.,  2.,  3.,  2.,  1.,  4.,  3.],\n",
       "        [ 4.,  5.,  6.,  7.,  1.,  2.,  3.,  4.],\n",
       "        [ 8.,  9., 10., 11.,  4.,  3.,  2.,  1.]], dtype=float32)>)"
      ]
     },
     "execution_count": 36,
     "metadata": {},
     "output_type": "execute_result"
    }
   ],
   "source": [
    "X = tf.reshape(tf.range(12, dtype=tf.float32),(3,4))\n",
    "Y = tf.constant([[2.0, 1, 4, 3], [1, 2, 3, 4], [4, 3, 2, 1]])\n",
    "tf.concat([X,Y], axis = 0), tf.concat([X,Y], axis = 1)"
   ]
  },
  {
   "cell_type": "code",
   "execution_count": 37,
   "id": "b46d4f31",
   "metadata": {
    "ExecuteTime": {
     "end_time": "2023-03-21T04:53:43.693601Z",
     "start_time": "2023-03-21T04:53:43.678258Z"
    }
   },
   "outputs": [
    {
     "data": {
      "text/plain": [
       "<tf.Tensor: shape=(3, 4), dtype=bool, numpy=\n",
       "array([[False,  True, False,  True],\n",
       "       [False, False, False, False],\n",
       "       [False, False, False, False]])>"
      ]
     },
     "execution_count": 37,
     "metadata": {},
     "output_type": "execute_result"
    }
   ],
   "source": [
    "X == Y"
   ]
  },
  {
   "cell_type": "code",
   "execution_count": 38,
   "id": "5c20557c",
   "metadata": {
    "ExecuteTime": {
     "end_time": "2023-03-21T04:54:02.448035Z",
     "start_time": "2023-03-21T04:54:02.432394Z"
    }
   },
   "outputs": [
    {
     "data": {
      "text/plain": [
       "<tf.Tensor: shape=(), dtype=float32, numpy=66.0>"
      ]
     },
     "execution_count": 38,
     "metadata": {},
     "output_type": "execute_result"
    }
   ],
   "source": [
    "tf.reduce_sum(X)"
   ]
  },
  {
   "cell_type": "code",
   "execution_count": 41,
   "id": "2773dedc",
   "metadata": {
    "ExecuteTime": {
     "end_time": "2023-03-21T04:56:41.313020Z",
     "start_time": "2023-03-21T04:56:41.306457Z"
    }
   },
   "outputs": [
    {
     "data": {
      "text/plain": [
       "(<tf.Tensor: shape=(3, 1), dtype=int32, numpy=\n",
       " array([[0],\n",
       "        [1],\n",
       "        [2]], dtype=int32)>,\n",
       " <tf.Tensor: shape=(1, 2), dtype=int32, numpy=array([[0, 1]], dtype=int32)>)"
      ]
     },
     "execution_count": 41,
     "metadata": {},
     "output_type": "execute_result"
    }
   ],
   "source": [
    "a = tf.reshape(tf.range(3),(3,1))\n",
    "b = tf.reshape(tf.range(2),(1,2))\n",
    "a,b"
   ]
  },
  {
   "cell_type": "code",
   "execution_count": 42,
   "id": "1ea11fe2",
   "metadata": {
    "ExecuteTime": {
     "end_time": "2023-03-21T04:56:46.395854Z",
     "start_time": "2023-03-21T04:56:46.380101Z"
    }
   },
   "outputs": [
    {
     "data": {
      "text/plain": [
       "<tf.Tensor: shape=(3, 2), dtype=int32, numpy=\n",
       "array([[0, 1],\n",
       "       [1, 2],\n",
       "       [2, 3]], dtype=int32)>"
      ]
     },
     "execution_count": 42,
     "metadata": {},
     "output_type": "execute_result"
    }
   ],
   "source": [
    "a + b"
   ]
  },
  {
   "cell_type": "code",
   "execution_count": 43,
   "id": "176b47ef",
   "metadata": {
    "ExecuteTime": {
     "end_time": "2023-03-21T04:58:33.487245Z",
     "start_time": "2023-03-21T04:58:33.481585Z"
    }
   },
   "outputs": [
    {
     "data": {
      "text/plain": [
       "False"
      ]
     },
     "execution_count": 43,
     "metadata": {},
     "output_type": "execute_result"
    }
   ],
   "source": [
    "before = id(Y)\n",
    "Y = Y+X\n",
    "after = id(Y)\n",
    "before == after"
   ]
  },
  {
   "cell_type": "code",
   "execution_count": 45,
   "id": "611fa047",
   "metadata": {
    "ExecuteTime": {
     "end_time": "2023-03-21T05:18:52.296312Z",
     "start_time": "2023-03-21T05:18:52.290116Z"
    }
   },
   "outputs": [
    {
     "data": {
      "text/plain": [
       "(<tf.Variable 'Variable:0' shape=(3, 4) dtype=float32, numpy=\n",
       " array([[0., 0., 0., 0.],\n",
       "        [0., 0., 0., 0.],\n",
       "        [0., 0., 0., 0.]], dtype=float32)>,\n",
       " 4686389648)"
      ]
     },
     "execution_count": 45,
     "metadata": {},
     "output_type": "execute_result"
    }
   ],
   "source": [
    "Z=tf.Variable(tf.zeros_like(Y))\n",
    "Z, id(Z)"
   ]
  },
  {
   "cell_type": "code",
   "execution_count": 47,
   "id": "1dbede7b",
   "metadata": {
    "ExecuteTime": {
     "end_time": "2023-03-21T05:19:09.598822Z",
     "start_time": "2023-03-21T05:19:09.592774Z"
    }
   },
   "outputs": [
    {
     "data": {
      "text/plain": [
       "(<tf.Variable 'Variable:0' shape=(3, 4) dtype=float32, numpy=\n",
       " array([[ 2.,  3.,  8.,  9.],\n",
       "        [ 9., 12., 15., 18.],\n",
       "        [20., 21., 22., 23.]], dtype=float32)>,\n",
       " 4686389648)"
      ]
     },
     "execution_count": 47,
     "metadata": {},
     "output_type": "execute_result"
    }
   ],
   "source": [
    "Z.assign(X+Y)\n",
    "Z,id(Z)"
   ]
  },
  {
   "cell_type": "markdown",
   "id": "4caca8cf",
   "metadata": {},
   "source": [
    "TensorFlow provides the tf.function decorator to wrap computation inside of a TensorFlow graph that gets compiled and optimized before running. This allows TensorFlow to prune unused values, and to reuse prior allocations that are no longer needed. This minimizes the memory overhead of TensorFlow computations."
   ]
  },
  {
   "cell_type": "code",
   "execution_count": 48,
   "id": "58711dfa",
   "metadata": {
    "ExecuteTime": {
     "end_time": "2023-03-21T05:22:36.023149Z",
     "start_time": "2023-03-21T05:22:35.749777Z"
    }
   },
   "outputs": [
    {
     "data": {
      "text/plain": [
       "<tf.Tensor: shape=(3, 4), dtype=float32, numpy=\n",
       "array([[ 8.,  9., 26., 27.],\n",
       "       [24., 33., 42., 51.],\n",
       "       [56., 57., 58., 59.]], dtype=float32)>"
      ]
     },
     "execution_count": 48,
     "metadata": {},
     "output_type": "execute_result"
    }
   ],
   "source": [
    "@tf.function\n",
    "def computation(X,Y):\n",
    "    Z = tf.zeros_like(Y) # This unused value will be pruned out\n",
    "    A = X+Y # Allocations will be reused when no longer needed\n",
    "    B = A+Y\n",
    "    C = B+Y\n",
    "    return C+Y\n",
    "\n",
    "computation(X,Y)"
   ]
  },
  {
   "cell_type": "code",
   "execution_count": 49,
   "id": "850480f4",
   "metadata": {
    "ExecuteTime": {
     "end_time": "2023-03-21T05:23:09.629397Z",
     "start_time": "2023-03-21T05:23:09.624028Z"
    }
   },
   "outputs": [
    {
     "data": {
      "text/plain": [
       "(numpy.ndarray, tensorflow.python.framework.ops.EagerTensor)"
      ]
     },
     "execution_count": 49,
     "metadata": {},
     "output_type": "execute_result"
    }
   ],
   "source": [
    "A = X.numpy()\n",
    "B = tf.constant(A)\n",
    "type(A), type(B)"
   ]
  },
  {
   "cell_type": "code",
   "execution_count": 57,
   "id": "f898e26d",
   "metadata": {
    "ExecuteTime": {
     "end_time": "2023-03-21T05:25:59.977785Z",
     "start_time": "2023-03-21T05:25:59.972534Z"
    }
   },
   "outputs": [
    {
     "data": {
      "text/plain": [
       "(array([3.4], dtype=float16), 3.400390625, 3.400390625, 3)"
      ]
     },
     "execution_count": 57,
     "metadata": {},
     "output_type": "execute_result"
    }
   ],
   "source": [
    "a = tf.constant([3.4],dtype=tf.float16).numpy()\n",
    "a, a.item(), float(a), int(a)"
   ]
  },
  {
   "cell_type": "code",
   "execution_count": 58,
   "id": "07424efe",
   "metadata": {
    "ExecuteTime": {
     "end_time": "2023-03-21T05:26:29.717786Z",
     "start_time": "2023-03-21T05:26:29.708726Z"
    }
   },
   "outputs": [
    {
     "data": {
      "text/plain": [
       "<tf.Tensor: shape=(3, 4), dtype=bool, numpy=\n",
       "array([[ True,  True,  True,  True],\n",
       "       [ True,  True,  True,  True],\n",
       "       [ True,  True,  True,  True]])>"
      ]
     },
     "execution_count": 58,
     "metadata": {},
     "output_type": "execute_result"
    }
   ],
   "source": [
    "X < Y"
   ]
  },
  {
   "cell_type": "code",
   "execution_count": 59,
   "id": "7635dfcf",
   "metadata": {
    "ExecuteTime": {
     "end_time": "2023-03-21T05:26:33.922088Z",
     "start_time": "2023-03-21T05:26:33.914022Z"
    }
   },
   "outputs": [
    {
     "data": {
      "text/plain": [
       "<tf.Tensor: shape=(3, 4), dtype=bool, numpy=\n",
       "array([[False, False, False, False],\n",
       "       [False, False, False, False],\n",
       "       [False, False, False, False]])>"
      ]
     },
     "execution_count": 59,
     "metadata": {},
     "output_type": "execute_result"
    }
   ],
   "source": [
    "X >Y"
   ]
  },
  {
   "cell_type": "code",
   "execution_count": 71,
   "id": "3e04611c",
   "metadata": {
    "ExecuteTime": {
     "end_time": "2023-03-21T05:29:41.583197Z",
     "start_time": "2023-03-21T05:29:41.576510Z"
    }
   },
   "outputs": [
    {
     "data": {
      "text/plain": [
       "(<tf.Tensor: shape=(3, 1), dtype=int32, numpy=\n",
       " array([[0],\n",
       "        [1],\n",
       "        [2]], dtype=int32)>,\n",
       " <tf.Tensor: shape=(1, 3), dtype=int32, numpy=array([[0, 1, 2]], dtype=int32)>)"
      ]
     },
     "execution_count": 71,
     "metadata": {},
     "output_type": "execute_result"
    }
   ],
   "source": [
    "c = tf.reshape(tf.range(3), (3,1))\n",
    "d = tf.reshape(tf.range(3), (1,3))\n",
    "c,d"
   ]
  },
  {
   "cell_type": "code",
   "execution_count": 72,
   "id": "e119abb9",
   "metadata": {
    "ExecuteTime": {
     "end_time": "2023-03-21T05:29:43.202350Z",
     "start_time": "2023-03-21T05:29:43.197233Z"
    }
   },
   "outputs": [
    {
     "data": {
      "text/plain": [
       "<tf.Tensor: shape=(3, 3), dtype=int32, numpy=\n",
       "array([[0, 1, 2],\n",
       "       [1, 2, 3],\n",
       "       [2, 3, 4]], dtype=int32)>"
      ]
     },
     "execution_count": 72,
     "metadata": {},
     "output_type": "execute_result"
    }
   ],
   "source": [
    "c + d"
   ]
  },
  {
   "cell_type": "markdown",
   "id": "324b5e7e",
   "metadata": {},
   "source": [
    "# Data Preprocessing"
   ]
  },
  {
   "cell_type": "code",
   "execution_count": 87,
   "id": "be0e0989",
   "metadata": {
    "ExecuteTime": {
     "end_time": "2023-03-21T05:43:05.132247Z",
     "start_time": "2023-03-21T05:43:05.085178Z"
    }
   },
   "outputs": [],
   "source": [
    "import os\n",
    "os.makedirs(os.path.join('.','data'),exist_ok=True)\n",
    "data_file = os.path.join('.', 'data', 'house_tiny.csv')\n",
    "with open(data_file, 'w') as f:\n",
    "    f.write('''NumRooms,RoofType,Price\n",
    "NA,NA,127500\n",
    "2,NA,106000\n",
    "4,Slate,178100\n",
    "NA,NA,140000''')\n",
    "f.close()"
   ]
  },
  {
   "cell_type": "code",
   "execution_count": 88,
   "id": "64096937",
   "metadata": {
    "ExecuteTime": {
     "end_time": "2023-03-21T05:43:05.470726Z",
     "start_time": "2023-03-21T05:43:05.422216Z"
    }
   },
   "outputs": [
    {
     "data": {
      "text/html": [
       "<div>\n",
       "<style scoped>\n",
       "    .dataframe tbody tr th:only-of-type {\n",
       "        vertical-align: middle;\n",
       "    }\n",
       "\n",
       "    .dataframe tbody tr th {\n",
       "        vertical-align: top;\n",
       "    }\n",
       "\n",
       "    .dataframe thead th {\n",
       "        text-align: right;\n",
       "    }\n",
       "</style>\n",
       "<table border=\"1\" class=\"dataframe\">\n",
       "  <thead>\n",
       "    <tr style=\"text-align: right;\">\n",
       "      <th></th>\n",
       "      <th>NumRooms</th>\n",
       "      <th>RoofType</th>\n",
       "      <th>Price</th>\n",
       "    </tr>\n",
       "  </thead>\n",
       "  <tbody>\n",
       "    <tr>\n",
       "      <th>0</th>\n",
       "      <td>NaN</td>\n",
       "      <td>NaN</td>\n",
       "      <td>127500</td>\n",
       "    </tr>\n",
       "    <tr>\n",
       "      <th>1</th>\n",
       "      <td>2.0</td>\n",
       "      <td>NaN</td>\n",
       "      <td>106000</td>\n",
       "    </tr>\n",
       "    <tr>\n",
       "      <th>2</th>\n",
       "      <td>4.0</td>\n",
       "      <td>Slate</td>\n",
       "      <td>178100</td>\n",
       "    </tr>\n",
       "    <tr>\n",
       "      <th>3</th>\n",
       "      <td>NaN</td>\n",
       "      <td>NaN</td>\n",
       "      <td>140000</td>\n",
       "    </tr>\n",
       "  </tbody>\n",
       "</table>\n",
       "</div>"
      ],
      "text/plain": [
       "   NumRooms RoofType   Price\n",
       "0       NaN      NaN  127500\n",
       "1       2.0      NaN  106000\n",
       "2       4.0    Slate  178100\n",
       "3       NaN      NaN  140000"
      ]
     },
     "execution_count": 88,
     "metadata": {},
     "output_type": "execute_result"
    }
   ],
   "source": [
    "import pandas as pd\n",
    "data = pd.read_csv('./data/house_tiny.csv')\n",
    "\n",
    "data"
   ]
  },
  {
   "cell_type": "markdown",
   "id": "5c72372b",
   "metadata": {},
   "source": [
    "treat NaN as a category. Since the RoofType column takes values Slate and NaN, pandas can convert this column into two columns RoofType_Slate and RoofType_nan."
   ]
  },
  {
   "cell_type": "code",
   "execution_count": 89,
   "id": "a1d9007e",
   "metadata": {
    "ExecuteTime": {
     "end_time": "2023-03-21T05:43:06.764253Z",
     "start_time": "2023-03-21T05:43:06.748429Z"
    }
   },
   "outputs": [
    {
     "data": {
      "text/html": [
       "<div>\n",
       "<style scoped>\n",
       "    .dataframe tbody tr th:only-of-type {\n",
       "        vertical-align: middle;\n",
       "    }\n",
       "\n",
       "    .dataframe tbody tr th {\n",
       "        vertical-align: top;\n",
       "    }\n",
       "\n",
       "    .dataframe thead th {\n",
       "        text-align: right;\n",
       "    }\n",
       "</style>\n",
       "<table border=\"1\" class=\"dataframe\">\n",
       "  <thead>\n",
       "    <tr style=\"text-align: right;\">\n",
       "      <th></th>\n",
       "      <th>NumRooms</th>\n",
       "      <th>RoofType_Slate</th>\n",
       "      <th>RoofType_nan</th>\n",
       "    </tr>\n",
       "  </thead>\n",
       "  <tbody>\n",
       "    <tr>\n",
       "      <th>0</th>\n",
       "      <td>NaN</td>\n",
       "      <td>0</td>\n",
       "      <td>1</td>\n",
       "    </tr>\n",
       "    <tr>\n",
       "      <th>1</th>\n",
       "      <td>2.0</td>\n",
       "      <td>0</td>\n",
       "      <td>1</td>\n",
       "    </tr>\n",
       "    <tr>\n",
       "      <th>2</th>\n",
       "      <td>4.0</td>\n",
       "      <td>1</td>\n",
       "      <td>0</td>\n",
       "    </tr>\n",
       "    <tr>\n",
       "      <th>3</th>\n",
       "      <td>NaN</td>\n",
       "      <td>0</td>\n",
       "      <td>1</td>\n",
       "    </tr>\n",
       "  </tbody>\n",
       "</table>\n",
       "</div>"
      ],
      "text/plain": [
       "   NumRooms  RoofType_Slate  RoofType_nan\n",
       "0       NaN               0             1\n",
       "1       2.0               0             1\n",
       "2       4.0               1             0\n",
       "3       NaN               0             1"
      ]
     },
     "execution_count": 89,
     "metadata": {},
     "output_type": "execute_result"
    }
   ],
   "source": [
    "inputs, targets = data.iloc[:,0:2], data.iloc[:,2]\n",
    "inputs = pd.get_dummies(inputs, dummy_na=True,columns=['RoofType'])\n",
    "inputs"
   ]
  },
  {
   "cell_type": "code",
   "execution_count": 90,
   "id": "5abcb514",
   "metadata": {
    "ExecuteTime": {
     "end_time": "2023-03-21T05:43:09.187894Z",
     "start_time": "2023-03-21T05:43:09.178952Z"
    }
   },
   "outputs": [
    {
     "data": {
      "text/html": [
       "<div>\n",
       "<style scoped>\n",
       "    .dataframe tbody tr th:only-of-type {\n",
       "        vertical-align: middle;\n",
       "    }\n",
       "\n",
       "    .dataframe tbody tr th {\n",
       "        vertical-align: top;\n",
       "    }\n",
       "\n",
       "    .dataframe thead th {\n",
       "        text-align: right;\n",
       "    }\n",
       "</style>\n",
       "<table border=\"1\" class=\"dataframe\">\n",
       "  <thead>\n",
       "    <tr style=\"text-align: right;\">\n",
       "      <th></th>\n",
       "      <th>NumRooms</th>\n",
       "      <th>RoofType_Slate</th>\n",
       "      <th>RoofType_nan</th>\n",
       "    </tr>\n",
       "  </thead>\n",
       "  <tbody>\n",
       "    <tr>\n",
       "      <th>0</th>\n",
       "      <td>3.0</td>\n",
       "      <td>0</td>\n",
       "      <td>1</td>\n",
       "    </tr>\n",
       "    <tr>\n",
       "      <th>1</th>\n",
       "      <td>2.0</td>\n",
       "      <td>0</td>\n",
       "      <td>1</td>\n",
       "    </tr>\n",
       "    <tr>\n",
       "      <th>2</th>\n",
       "      <td>4.0</td>\n",
       "      <td>1</td>\n",
       "      <td>0</td>\n",
       "    </tr>\n",
       "    <tr>\n",
       "      <th>3</th>\n",
       "      <td>3.0</td>\n",
       "      <td>0</td>\n",
       "      <td>1</td>\n",
       "    </tr>\n",
       "  </tbody>\n",
       "</table>\n",
       "</div>"
      ],
      "text/plain": [
       "   NumRooms  RoofType_Slate  RoofType_nan\n",
       "0       3.0               0             1\n",
       "1       2.0               0             1\n",
       "2       4.0               1             0\n",
       "3       3.0               0             1"
      ]
     },
     "execution_count": 90,
     "metadata": {},
     "output_type": "execute_result"
    }
   ],
   "source": [
    "inputs = inputs.fillna(inputs.mean())\n",
    "inputs"
   ]
  },
  {
   "cell_type": "code",
   "execution_count": 91,
   "id": "4b2e9577",
   "metadata": {
    "ExecuteTime": {
     "end_time": "2023-03-21T05:43:43.917506Z",
     "start_time": "2023-03-21T05:43:43.851405Z"
    }
   },
   "outputs": [],
   "source": [
    "X, y = tf.constant(inputs.values), tf.constant(targets.values)"
   ]
  },
  {
   "cell_type": "code",
   "execution_count": 92,
   "id": "3a56b725",
   "metadata": {
    "ExecuteTime": {
     "end_time": "2023-03-21T05:43:46.062207Z",
     "start_time": "2023-03-21T05:43:46.056771Z"
    }
   },
   "outputs": [
    {
     "data": {
      "text/plain": [
       "(<tf.Tensor: shape=(4, 3), dtype=float64, numpy=\n",
       " array([[3., 0., 1.],\n",
       "        [2., 0., 1.],\n",
       "        [4., 1., 0.],\n",
       "        [3., 0., 1.]])>,\n",
       " <tf.Tensor: shape=(4,), dtype=int64, numpy=array([127500, 106000, 178100, 140000])>)"
      ]
     },
     "execution_count": 92,
     "metadata": {},
     "output_type": "execute_result"
    }
   ],
   "source": [
    "X,y"
   ]
  },
  {
   "cell_type": "markdown",
   "id": "ab61eb34",
   "metadata": {},
   "source": [
    "# Linear Algebra"
   ]
  },
  {
   "cell_type": "code",
   "execution_count": 94,
   "id": "7ded9949",
   "metadata": {
    "ExecuteTime": {
     "end_time": "2023-03-21T05:50:32.943591Z",
     "start_time": "2023-03-21T05:50:32.916369Z"
    }
   },
   "outputs": [
    {
     "data": {
      "text/plain": [
       "(<tf.Tensor: shape=(), dtype=int32, numpy=7>,\n",
       " <tf.Tensor: shape=(), dtype=int32, numpy=12>,\n",
       " <tf.Tensor: shape=(), dtype=int32, numpy=0>)"
      ]
     },
     "execution_count": 94,
     "metadata": {},
     "output_type": "execute_result"
    }
   ],
   "source": [
    "# scalar\n",
    "x = tf.constant(3)\n",
    "y = tf.constant(4)\n",
    "x+y, x*y, x//y"
   ]
  },
  {
   "cell_type": "code",
   "execution_count": 100,
   "id": "7684f797",
   "metadata": {
    "ExecuteTime": {
     "end_time": "2023-03-21T05:53:57.752962Z",
     "start_time": "2023-03-21T05:53:57.746799Z"
    }
   },
   "outputs": [
    {
     "data": {
      "text/plain": [
       "(<tf.Tensor: shape=(), dtype=int32, numpy=2>, 3, TensorShape([3]))"
      ]
     },
     "execution_count": 100,
     "metadata": {},
     "output_type": "execute_result"
    }
   ],
   "source": [
    "# vectors\n",
    "x = tf.range(3)\n",
    "x[2], len(x), x.shape"
   ]
  },
  {
   "cell_type": "markdown",
   "id": "26eea111",
   "metadata": {},
   "source": [
    "Just as scalars are 0th-order tensors and vectors are 1st-order tensors, matrices are 2nd-order tensors."
   ]
  },
  {
   "cell_type": "code",
   "execution_count": 101,
   "id": "10cab121",
   "metadata": {
    "ExecuteTime": {
     "end_time": "2023-03-21T05:55:09.245969Z",
     "start_time": "2023-03-21T05:55:09.240232Z"
    }
   },
   "outputs": [
    {
     "data": {
      "text/plain": [
       "<tf.Tensor: shape=(2, 3), dtype=int32, numpy=\n",
       "array([[0, 1, 2],\n",
       "       [3, 4, 5]], dtype=int32)>"
      ]
     },
     "execution_count": 101,
     "metadata": {},
     "output_type": "execute_result"
    }
   ],
   "source": [
    "A = tf.reshape(tf.range(6), (2,3))\n",
    "A"
   ]
  },
  {
   "cell_type": "code",
   "execution_count": 102,
   "id": "ab5528ec",
   "metadata": {
    "ExecuteTime": {
     "end_time": "2023-03-21T05:55:25.309363Z",
     "start_time": "2023-03-21T05:55:25.294703Z"
    }
   },
   "outputs": [
    {
     "data": {
      "text/plain": [
       "<tf.Tensor: shape=(3, 2), dtype=int32, numpy=\n",
       "array([[0, 3],\n",
       "       [1, 4],\n",
       "       [2, 5]], dtype=int32)>"
      ]
     },
     "execution_count": 102,
     "metadata": {},
     "output_type": "execute_result"
    }
   ],
   "source": [
    "tf.transpose(A)"
   ]
  },
  {
   "cell_type": "code",
   "execution_count": 103,
   "id": "a416aa84",
   "metadata": {
    "ExecuteTime": {
     "end_time": "2023-03-21T05:58:54.387711Z",
     "start_time": "2023-03-21T05:58:54.381633Z"
    }
   },
   "outputs": [
    {
     "data": {
      "text/plain": [
       "(<tf.Tensor: shape=(2, 3), dtype=int32, numpy=\n",
       " array([[0, 1, 2],\n",
       "        [3, 4, 5]], dtype=int32)>,\n",
       " <tf.Tensor: shape=(2, 3), dtype=int32, numpy=\n",
       " array([[0, 1, 2],\n",
       "        [3, 4, 5]], dtype=int32)>)"
      ]
     },
     "execution_count": 103,
     "metadata": {},
     "output_type": "execute_result"
    }
   ],
   "source": [
    "A = tf.reshape(tf.range(6), (2,3))\n",
    "B = A # No cloning of A to B by allocating new memory\n",
    "A,B"
   ]
  },
  {
   "cell_type": "code",
   "execution_count": 104,
   "id": "36a37ab1",
   "metadata": {
    "ExecuteTime": {
     "end_time": "2023-03-21T05:59:00.945822Z",
     "start_time": "2023-03-21T05:59:00.940580Z"
    }
   },
   "outputs": [
    {
     "data": {
      "text/plain": [
       "<tf.Tensor: shape=(2, 3), dtype=int32, numpy=\n",
       "array([[ 0,  1,  4],\n",
       "       [ 9, 16, 25]], dtype=int32)>"
      ]
     },
     "execution_count": 104,
     "metadata": {},
     "output_type": "execute_result"
    }
   ],
   "source": [
    "# elementwise product of two matrices\n",
    "A*B"
   ]
  },
  {
   "cell_type": "code",
   "execution_count": 106,
   "id": "8d3e3169",
   "metadata": {
    "ExecuteTime": {
     "end_time": "2023-03-21T05:59:54.226457Z",
     "start_time": "2023-03-21T05:59:54.219638Z"
    }
   },
   "outputs": [
    {
     "data": {
      "text/plain": [
       "(<tf.Tensor: shape=(2, 3, 4), dtype=int32, numpy=\n",
       " array([[[ 2,  3,  4,  5],\n",
       "         [ 6,  7,  8,  9],\n",
       "         [10, 11, 12, 13]],\n",
       " \n",
       "        [[14, 15, 16, 17],\n",
       "         [18, 19, 20, 21],\n",
       "         [22, 23, 24, 25]]], dtype=int32)>,\n",
       " <tf.Tensor: shape=(2, 3, 4), dtype=int32, numpy=\n",
       " array([[[ 0,  2,  4,  6],\n",
       "         [ 8, 10, 12, 14],\n",
       "         [16, 18, 20, 22]],\n",
       " \n",
       "        [[24, 26, 28, 30],\n",
       "         [32, 34, 36, 38],\n",
       "         [40, 42, 44, 46]]], dtype=int32)>)"
      ]
     },
     "execution_count": 106,
     "metadata": {},
     "output_type": "execute_result"
    }
   ],
   "source": [
    "a = 2\n",
    "X = tf.reshape(tf.range(24), (2,3,4))\n",
    "a + X, a * X"
   ]
  },
  {
   "cell_type": "code",
   "execution_count": 107,
   "id": "47c1aab8",
   "metadata": {
    "ExecuteTime": {
     "end_time": "2023-03-21T06:01:01.747329Z",
     "start_time": "2023-03-21T06:01:01.734272Z"
    }
   },
   "outputs": [
    {
     "data": {
      "text/plain": [
       "<tf.Tensor: shape=(), dtype=float32, numpy=3.0>"
      ]
     },
     "execution_count": 107,
     "metadata": {},
     "output_type": "execute_result"
    }
   ],
   "source": [
    "x = tf.range(3, dtype = tf.float32)\n",
    "tf.reduce_sum(x)"
   ]
  },
  {
   "cell_type": "code",
   "execution_count": 111,
   "id": "b4fb8673",
   "metadata": {
    "ExecuteTime": {
     "end_time": "2023-03-21T06:03:15.746494Z",
     "start_time": "2023-03-21T06:03:15.739264Z"
    }
   },
   "outputs": [
    {
     "data": {
      "text/plain": [
       "(<tf.Tensor: shape=(2, 3), dtype=int32, numpy=\n",
       " array([[0, 1, 2],\n",
       "        [3, 4, 5]], dtype=int32)>,\n",
       " <tf.Tensor: shape=(3,), dtype=int32, numpy=array([3, 5, 7], dtype=int32)>,\n",
       " <tf.Tensor: shape=(), dtype=int32, numpy=15>)"
      ]
     },
     "execution_count": 111,
     "metadata": {},
     "output_type": "execute_result"
    }
   ],
   "source": [
    "A, tf.reduce_sum(A, axis = 0), tf.reduce_sum(A, axis = [0,1])"
   ]
  },
  {
   "cell_type": "code",
   "execution_count": 115,
   "id": "7fbea914",
   "metadata": {
    "ExecuteTime": {
     "end_time": "2023-03-21T06:04:06.430141Z",
     "start_time": "2023-03-21T06:04:06.417969Z"
    }
   },
   "outputs": [
    {
     "data": {
      "text/plain": [
       "(<tf.Tensor: shape=(), dtype=float64, numpy=2.5>,\n",
       " <tf.Tensor: shape=(), dtype=int32, numpy=2>)"
      ]
     },
     "execution_count": 115,
     "metadata": {},
     "output_type": "execute_result"
    }
   ],
   "source": [
    "tf.reduce_sum(A) / tf.size(A).numpy(), tf.reduce_mean(A)"
   ]
  },
  {
   "cell_type": "code",
   "execution_count": 116,
   "id": "f9c90ff4",
   "metadata": {
    "ExecuteTime": {
     "end_time": "2023-03-21T06:07:41.955931Z",
     "start_time": "2023-03-21T06:07:41.951158Z"
    }
   },
   "outputs": [
    {
     "data": {
      "text/plain": [
       "<tf.Tensor: shape=(2, 3), dtype=int32, numpy=\n",
       "array([[0, 1, 2],\n",
       "       [3, 4, 5]], dtype=int32)>"
      ]
     },
     "execution_count": 116,
     "metadata": {},
     "output_type": "execute_result"
    }
   ],
   "source": [
    "A"
   ]
  },
  {
   "cell_type": "code",
   "execution_count": 119,
   "id": "e99d66ea",
   "metadata": {
    "ExecuteTime": {
     "end_time": "2023-03-21T06:08:12.860489Z",
     "start_time": "2023-03-21T06:08:12.854490Z"
    }
   },
   "outputs": [
    {
     "data": {
      "text/plain": [
       "<tf.Tensor: shape=(2, 1), dtype=int32, numpy=\n",
       "array([[ 3],\n",
       "       [12]], dtype=int32)>"
      ]
     },
     "execution_count": 119,
     "metadata": {},
     "output_type": "execute_result"
    }
   ],
   "source": [
    "tf.reduce_sum(A, axis = 1, keepdims=True)"
   ]
  },
  {
   "cell_type": "code",
   "execution_count": 121,
   "id": "41e6996e",
   "metadata": {
    "ExecuteTime": {
     "end_time": "2023-03-21T06:09:11.855874Z",
     "start_time": "2023-03-21T06:09:11.850845Z"
    }
   },
   "outputs": [
    {
     "data": {
      "text/plain": [
       "<tf.Tensor: shape=(2, 3), dtype=int32, numpy=\n",
       "array([[0, 1, 2],\n",
       "       [3, 5, 7]], dtype=int32)>"
      ]
     },
     "execution_count": 121,
     "metadata": {},
     "output_type": "execute_result"
    }
   ],
   "source": [
    "tf.cumsum(A, axis = 0)"
   ]
  },
  {
   "cell_type": "code",
   "execution_count": 127,
   "id": "cb44756f",
   "metadata": {
    "ExecuteTime": {
     "end_time": "2023-03-21T06:18:13.680722Z",
     "start_time": "2023-03-21T06:18:13.673344Z"
    }
   },
   "outputs": [
    {
     "data": {
      "text/plain": [
       "(<tf.Tensor: shape=(3,), dtype=float32, numpy=array([0., 1., 2.], dtype=float32)>,\n",
       " <tf.Tensor: shape=(3,), dtype=float32, numpy=array([1., 1., 1.], dtype=float32)>,\n",
       " <tf.Tensor: shape=(3, 3), dtype=float32, numpy=\n",
       " array([[0., 0., 0.],\n",
       "        [1., 1., 1.],\n",
       "        [2., 2., 2.]], dtype=float32)>)"
      ]
     },
     "execution_count": 127,
     "metadata": {},
     "output_type": "execute_result"
    }
   ],
   "source": [
    "# vector-vector dot product\n",
    "x = tf.range(3, dtype = tf.float32)\n",
    "y = tf.ones(3, dtype = tf.float32)\n",
    "x, y , tf.tensordot(x, y, axes = 0)"
   ]
  },
  {
   "cell_type": "code",
   "execution_count": 134,
   "id": "31477dd9",
   "metadata": {
    "ExecuteTime": {
     "end_time": "2023-03-21T06:22:10.831686Z",
     "start_time": "2023-03-21T06:22:10.824936Z"
    }
   },
   "outputs": [
    {
     "data": {
      "text/plain": [
       "<tf.Tensor: shape=(2,), dtype=float32, numpy=array([ 3., 12.], dtype=float32)>"
      ]
     },
     "execution_count": 134,
     "metadata": {},
     "output_type": "execute_result"
    }
   ],
   "source": [
    "# matrix-vector product\n",
    "A = tf.reshape(tf.range(6,dtype = tf.float32),(2,3))\n",
    "x = tf.ones(3,dtype = tf.float32)\n",
    "tf.linalg.matvec(A, x)"
   ]
  },
  {
   "cell_type": "code",
   "execution_count": 136,
   "id": "30d78708",
   "metadata": {
    "ExecuteTime": {
     "end_time": "2023-03-21T06:25:10.930266Z",
     "start_time": "2023-03-21T06:25:10.923707Z"
    }
   },
   "outputs": [
    {
     "data": {
      "text/plain": [
       "(<tf.Tensor: shape=(2, 3), dtype=float32, numpy=\n",
       " array([[0., 1., 2.],\n",
       "        [3., 4., 5.]], dtype=float32)>,\n",
       " <tf.Tensor: shape=(3, 4), dtype=float32, numpy=\n",
       " array([[1., 1., 1., 1.],\n",
       "        [1., 1., 1., 1.],\n",
       "        [1., 1., 1., 1.]], dtype=float32)>,\n",
       " <tf.Tensor: shape=(2, 4), dtype=float32, numpy=\n",
       " array([[ 3.,  3.,  3.,  3.],\n",
       "        [12., 12., 12., 12.]], dtype=float32)>)"
      ]
     },
     "execution_count": 136,
     "metadata": {},
     "output_type": "execute_result"
    }
   ],
   "source": [
    "# matrix-matrix product\n",
    "B = tf.ones((3,4),dtype = tf.float32)\n",
    "A,B,tf.matmul(A,B)"
   ]
  },
  {
   "cell_type": "code",
   "execution_count": 137,
   "id": "3d031a54",
   "metadata": {
    "ExecuteTime": {
     "end_time": "2023-03-21T06:26:51.471752Z",
     "start_time": "2023-03-21T06:26:51.458092Z"
    }
   },
   "outputs": [
    {
     "data": {
      "text/plain": [
       "<tf.Tensor: shape=(), dtype=float32, numpy=5.0>"
      ]
     },
     "execution_count": 137,
     "metadata": {},
     "output_type": "execute_result"
    }
   ],
   "source": [
    "# l2 norm\n",
    "u = tf.constant([3,0,-4.0])\n",
    "tf.norm(u)"
   ]
  },
  {
   "cell_type": "code",
   "execution_count": 138,
   "id": "6b1c1f29",
   "metadata": {
    "ExecuteTime": {
     "end_time": "2023-03-21T06:27:42.477870Z",
     "start_time": "2023-03-21T06:27:42.466577Z"
    }
   },
   "outputs": [
    {
     "data": {
      "text/plain": [
       "<tf.Tensor: shape=(), dtype=float32, numpy=7.0>"
      ]
     },
     "execution_count": 138,
     "metadata": {},
     "output_type": "execute_result"
    }
   ],
   "source": [
    "# l1 norm\n",
    "tf.reduce_sum(tf.abs(u))"
   ]
  },
  {
   "cell_type": "markdown",
   "id": "e8cd525c",
   "metadata": {},
   "source": [
    "# Automatic differentiation - backpropagation"
   ]
  },
  {
   "cell_type": "code",
   "execution_count": 140,
   "id": "0ed3628f",
   "metadata": {
    "ExecuteTime": {
     "end_time": "2023-03-21T06:40:31.670677Z",
     "start_time": "2023-03-21T06:40:31.650973Z"
    }
   },
   "outputs": [
    {
     "data": {
      "text/plain": [
       "<tf.Variable 'Variable:0' shape=(4,) dtype=float32, numpy=array([0., 1., 2., 3.], dtype=float32)>"
      ]
     },
     "execution_count": 140,
     "metadata": {},
     "output_type": "execute_result"
    }
   ],
   "source": [
    "x = tf.range(4, dtype = tf.float32)\n",
    "x = tf.Variable(x)\n",
    "x"
   ]
  },
  {
   "cell_type": "code",
   "execution_count": 145,
   "id": "3c521386",
   "metadata": {
    "ExecuteTime": {
     "end_time": "2023-03-21T06:43:10.604497Z",
     "start_time": "2023-03-21T06:43:10.597192Z"
    }
   },
   "outputs": [
    {
     "data": {
      "text/plain": [
       "<tf.Tensor: shape=(), dtype=float32, numpy=28.0>"
      ]
     },
     "execution_count": 145,
     "metadata": {},
     "output_type": "execute_result"
    }
   ],
   "source": [
    "with tf.GradientTape() as t:\n",
    "    y = 2 * tf.tensordot(x, x, axes = 1)\n",
    "    \n",
    "y"
   ]
  },
  {
   "cell_type": "code",
   "execution_count": 146,
   "id": "5b6f5188",
   "metadata": {
    "ExecuteTime": {
     "end_time": "2023-03-21T06:43:10.887025Z",
     "start_time": "2023-03-21T06:43:10.878708Z"
    }
   },
   "outputs": [
    {
     "data": {
      "text/plain": [
       "<tf.Tensor: shape=(4,), dtype=float32, numpy=array([ 0.,  4.,  8., 12.], dtype=float32)>"
      ]
     },
     "execution_count": 146,
     "metadata": {},
     "output_type": "execute_result"
    }
   ],
   "source": [
    "x_grad = t.gradient(y, x)\n",
    "x_grad"
   ]
  },
  {
   "cell_type": "code",
   "execution_count": 147,
   "id": "d0a1e657",
   "metadata": {
    "ExecuteTime": {
     "end_time": "2023-03-21T06:44:52.305561Z",
     "start_time": "2023-03-21T06:44:52.198744Z"
    }
   },
   "outputs": [
    {
     "data": {
      "text/plain": [
       "<tf.Tensor: shape=(4,), dtype=float32, numpy=array([1., 1., 1., 1.], dtype=float32)>"
      ]
     },
     "execution_count": 147,
     "metadata": {},
     "output_type": "execute_result"
    }
   ],
   "source": [
    "with tf.GradientTape() as t:\n",
    "    y = tf.reduce_sum(x)\n",
    "t.gradient(y, x)"
   ]
  },
  {
   "cell_type": "markdown",
   "id": "efcb4637",
   "metadata": {},
   "source": [
    "When y is a vector, the derivative of y with respect to a vector x is a matrix called the ***Jacobian*** that contains the partial derivatives of each component of y with respect to each component of x. "
   ]
  },
  {
   "cell_type": "code",
   "execution_count": 152,
   "id": "ee8e4b1c",
   "metadata": {
    "ExecuteTime": {
     "end_time": "2023-03-21T06:56:57.595451Z",
     "start_time": "2023-03-21T06:56:57.588645Z"
    }
   },
   "outputs": [
    {
     "data": {
      "text/plain": [
       "<tf.Tensor: shape=(4,), dtype=float32, numpy=array([0., 2., 4., 6.], dtype=float32)>"
      ]
     },
     "execution_count": 152,
     "metadata": {},
     "output_type": "execute_result"
    }
   ],
   "source": [
    "# Backward for Non-Scalar Variables\n",
    "with tf.GradientTape() as t:\n",
    "    y = x * x\n",
    "t.gradient(y, x)"
   ]
  },
  {
   "cell_type": "code",
   "execution_count": 149,
   "id": "e6b75528",
   "metadata": {
    "ExecuteTime": {
     "end_time": "2023-03-21T06:52:04.663486Z",
     "start_time": "2023-03-21T06:52:04.654647Z"
    }
   },
   "outputs": [
    {
     "data": {
      "text/plain": [
       "<tf.Tensor: shape=(4,), dtype=bool, numpy=array([ True,  True,  True,  True])>"
      ]
     },
     "execution_count": 149,
     "metadata": {},
     "output_type": "execute_result"
    }
   ],
   "source": [
    "# Detaching Computation\n",
    "with tf.GradientTape(persistent=True) as t:\n",
    "    y = x * x\n",
    "    u = tf.stop_gradient(y)\n",
    "    z = x * u\n",
    "x_grad = t.gradient(z, x)\n",
    "x_grad == u"
   ]
  },
  {
   "cell_type": "code",
   "execution_count": 151,
   "id": "4562bfd9",
   "metadata": {
    "ExecuteTime": {
     "end_time": "2023-03-21T06:53:09.890433Z",
     "start_time": "2023-03-21T06:53:09.884030Z"
    }
   },
   "outputs": [
    {
     "data": {
      "text/plain": [
       "<tf.Tensor: shape=(4,), dtype=bool, numpy=array([ True,  True,  True,  True])>"
      ]
     },
     "execution_count": 151,
     "metadata": {},
     "output_type": "execute_result"
    }
   ],
   "source": [
    "t.gradient(y, x) == 2* x\n"
   ]
  },
  {
   "cell_type": "markdown",
   "id": "28eb1e5f",
   "metadata": {},
   "source": [
    "# Prob & Stats"
   ]
  },
  {
   "cell_type": "code",
   "execution_count": 3,
   "id": "d39206d7",
   "metadata": {
    "ExecuteTime": {
     "end_time": "2023-03-21T22:10:39.900584Z",
     "start_time": "2023-03-21T22:10:39.767452Z"
    }
   },
   "outputs": [],
   "source": [
    "from tensorflow_probability import distributions as tfd"
   ]
  },
  {
   "cell_type": "code",
   "execution_count": null,
   "id": "d15f88e1",
   "metadata": {},
   "outputs": [],
   "source": []
  },
  {
   "cell_type": "code",
   "execution_count": null,
   "id": "b395933a",
   "metadata": {},
   "outputs": [],
   "source": []
  },
  {
   "cell_type": "code",
   "execution_count": null,
   "id": "417e3f7d",
   "metadata": {},
   "outputs": [],
   "source": []
  },
  {
   "cell_type": "code",
   "execution_count": null,
   "id": "2b923e8b",
   "metadata": {},
   "outputs": [],
   "source": []
  },
  {
   "cell_type": "code",
   "execution_count": 153,
   "id": "06224e72",
   "metadata": {
    "ExecuteTime": {
     "end_time": "2023-03-21T07:04:06.566471Z",
     "start_time": "2023-03-21T07:04:06.551870Z"
    }
   },
   "outputs": [
    {
     "data": {
      "text/plain": [
       "['Algorithm',\n",
       " 'Generator',\n",
       " '__builtins__',\n",
       " '__cached__',\n",
       " '__doc__',\n",
       " '__file__',\n",
       " '__loader__',\n",
       " '__name__',\n",
       " '__package__',\n",
       " '__path__',\n",
       " '__spec__',\n",
       " '_sys',\n",
       " 'all_candidate_sampler',\n",
       " 'categorical',\n",
       " 'create_rng_state',\n",
       " 'experimental',\n",
       " 'fixed_unigram_candidate_sampler',\n",
       " 'gamma',\n",
       " 'get_global_generator',\n",
       " 'learned_unigram_candidate_sampler',\n",
       " 'log_uniform_candidate_sampler',\n",
       " 'normal',\n",
       " 'poisson',\n",
       " 'set_global_generator',\n",
       " 'set_seed',\n",
       " 'shuffle',\n",
       " 'stateless_binomial',\n",
       " 'stateless_categorical',\n",
       " 'stateless_gamma',\n",
       " 'stateless_normal',\n",
       " 'stateless_parameterized_truncated_normal',\n",
       " 'stateless_poisson',\n",
       " 'stateless_truncated_normal',\n",
       " 'stateless_uniform',\n",
       " 'truncated_normal',\n",
       " 'uniform',\n",
       " 'uniform_candidate_sampler']"
      ]
     },
     "execution_count": 153,
     "metadata": {},
     "output_type": "execute_result"
    }
   ],
   "source": [
    "dir(tf.random)"
   ]
  },
  {
   "cell_type": "code",
   "execution_count": 154,
   "id": "b44cd206",
   "metadata": {
    "ExecuteTime": {
     "end_time": "2023-03-21T07:04:33.848789Z",
     "start_time": "2023-03-21T07:04:33.842852Z"
    }
   },
   "outputs": [
    {
     "name": "stdout",
     "output_type": "stream",
     "text": [
      "Help on function ones in module tensorflow.python.ops.array_ops:\n",
      "\n",
      "ones(shape, dtype=tf.float32, name=None)\n",
      "    Creates a tensor with all elements set to one (1).\n",
      "    \n",
      "    See also `tf.ones_like`, `tf.zeros`, `tf.fill`, `tf.eye`.\n",
      "    \n",
      "    This operation returns a tensor of type `dtype` with shape `shape` and\n",
      "    all elements set to one.\n",
      "    \n",
      "    >>> tf.ones([3, 4], tf.int32)\n",
      "    <tf.Tensor: shape=(3, 4), dtype=int32, numpy=\n",
      "    array([[1, 1, 1, 1],\n",
      "           [1, 1, 1, 1],\n",
      "           [1, 1, 1, 1]], dtype=int32)>\n",
      "    \n",
      "    Args:\n",
      "      shape: A `list` of integers, a `tuple` of integers, or\n",
      "        a 1-D `Tensor` of type `int32`.\n",
      "      dtype: Optional DType of an element in the resulting `Tensor`. Default is\n",
      "        `tf.float32`.\n",
      "      name: Optional string. A name for the operation.\n",
      "    \n",
      "    Returns:\n",
      "      A `Tensor` with all elements set to one (1).\n",
      "\n"
     ]
    }
   ],
   "source": [
    "help(tf.ones)"
   ]
  },
  {
   "cell_type": "code",
   "execution_count": null,
   "id": "caac0046",
   "metadata": {},
   "outputs": [],
   "source": [
    "?"
   ]
  }
 ],
 "metadata": {
  "hide_input": false,
  "kernelspec": {
   "display_name": "Python 3 (ipykernel)",
   "language": "python",
   "name": "python3"
  },
  "language_info": {
   "codemirror_mode": {
    "name": "ipython",
    "version": 3
   },
   "file_extension": ".py",
   "mimetype": "text/x-python",
   "name": "python",
   "nbconvert_exporter": "python",
   "pygments_lexer": "ipython3",
   "version": "3.9.16"
  },
  "toc": {
   "base_numbering": 1,
   "nav_menu": {},
   "number_sections": true,
   "sideBar": true,
   "skip_h1_title": false,
   "title_cell": "Table of Contents",
   "title_sidebar": "Contents",
   "toc_cell": false,
   "toc_position": {},
   "toc_section_display": true,
   "toc_window_display": false
  },
  "varInspector": {
   "cols": {
    "lenName": 16,
    "lenType": 16,
    "lenVar": 40
   },
   "kernels_config": {
    "python": {
     "delete_cmd_postfix": "",
     "delete_cmd_prefix": "del ",
     "library": "var_list.py",
     "varRefreshCmd": "print(var_dic_list())"
    },
    "r": {
     "delete_cmd_postfix": ") ",
     "delete_cmd_prefix": "rm(",
     "library": "var_list.r",
     "varRefreshCmd": "cat(var_dic_list()) "
    }
   },
   "types_to_exclude": [
    "module",
    "function",
    "builtin_function_or_method",
    "instance",
    "_Feature"
   ],
   "window_display": false
  }
 },
 "nbformat": 4,
 "nbformat_minor": 5
}
