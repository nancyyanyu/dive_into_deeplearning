{
 "cells": [
  {
   "cell_type": "code",
   "execution_count": 1,
   "id": "b7c41b92",
   "metadata": {},
   "outputs": [],
   "source": [
    "from torch import nn\n",
    "from utils_torch import *\n",
    "import torch"
   ]
  },
  {
   "attachments": {
    "image.png": {
     "image/png": "[encoded data removed]"
    }
   },
   "cell_type": "markdown",
   "id": "8b3bddc3",
   "metadata": {},
   "source": [
    "# The Encoder-Decoder Architecture\n",
    "Encoder-decoder architectures can handle inputs and outputs that both consist of variable-length sequences and thus are suitable for seq2seq problems such as machine translation. \n",
    "\n",
    "An encoder-decoder architecture consisting of two major components: \n",
    "1. Encoder: takes a variable-length sequence as input and transforms it into a state with a fixed shape;\n",
    "2. Decoder: acts as a conditional language model, taking in the encoded input and the leftwards context of the target sequence and predicting the subsequent token in the target sequence.\n",
    "\n",
    "![image.png](attachment:image.png)"
   ]
  },
  {
   "cell_type": "markdown",
   "id": "611ad9fb",
   "metadata": {},
   "source": [
    "## Encoder"
   ]
  },
  {
   "cell_type": "code",
   "execution_count": 2,
   "id": "901311ce",
   "metadata": {},
   "outputs": [],
   "source": [
    "class Encoder(nn.Module):\n",
    "    \"\"\"The base encoder interface for the encoder-decoder architecture.\"\"\"\n",
    "\n",
    "    def __init__(self):\n",
    "        super().__init__()\n",
    "\n",
    "    # Later there can be additional arguments (e.g., length excluding padding)\n",
    "    def forward(self, X, *args):\n",
    "        # encoder takes variable-length sequences as input X\n",
    "        raise NotImplementedError"
   ]
  },
  {
   "cell_type": "markdown",
   "id": "fe40749b",
   "metadata": {},
   "source": [
    "To generate a variable-length sequence token by token, every time the decoder may map an input (e.g., the generated token at the previous time step) and the encoded state into an output token at the current time step."
   ]
  },
  {
   "cell_type": "code",
   "execution_count": 3,
   "id": "ef0554b0",
   "metadata": {},
   "outputs": [],
   "source": [
    "class Decoder(nn.Module):  # @save\n",
    "    \"\"\"The base decoder interface for the encoder-decoder architecture.\"\"\"\n",
    "\n",
    "    def __init__(self):\n",
    "        super().__init__()\n",
    "\n",
    "    # Later there can be additional arguments (e.g., length excluding padding)\n",
    "    def init_state(self, enc_all_outputs, *args):\n",
    "        # convert the encoder output (enc_all_outputs) into the encoded state.\n",
    "        raise NotImplementedError\n",
    "\n",
    "    def forward(self, X, state):\n",
    "        raise NotImplementedError"
   ]
  },
  {
   "cell_type": "code",
   "execution_count": 4,
   "id": "7aa03bca",
   "metadata": {},
   "outputs": [],
   "source": [
    "class EncoderDecoder(Classifier):\n",
    "    def __init__(self, encoder, decoder):\n",
    "        super().__init__()\n",
    "        self.encoder = encoder\n",
    "        self.decoder = decoder\n",
    "\n",
    "    def forward(self, enc_X, dec_X, *args):\n",
    "        # the encoder is used to produce the encoded state\n",
    "        enc_all_outputs = self.encoder(enc_X, *args)\n",
    "        # this state will be used by the decoder as one of its input.\n",
    "        dec_state = self.decoder.init_state(enc_all_outputs, *args)\n",
    "        return self.decoder(dec_X, dec_state)[0]"
   ]
  },
  {
   "attachments": {
    "image.png": {
     "image/png": "[encoded data removed]"
    }
   },
   "cell_type": "markdown",
   "id": "0a79719d",
   "metadata": {},
   "source": [
    "# Encoder-Decoder Seq2Seq for Machine Translation \n",
    "![image.png](attachment:image.png)\n"
   ]
  },
  {
   "cell_type": "markdown",
   "id": "b9a5f815",
   "metadata": {},
   "source": [
    "## Encoder"
   ]
  },
  {
   "cell_type": "code",
   "execution_count": 51,
   "id": "4e5ecadf",
   "metadata": {},
   "outputs": [],
   "source": [
    "def init_seq2seq(module):\n",
    "    \"\"\"Initialize weights for Seq2Seq.\"\"\"\n",
    "    if type(module) == nn.Linear:\n",
    "        pass\n",
    "    if type(module) == nn.GRU:\n",
    "        \"\"\"\n",
    "           module._flat_weights_names = ['weight_ih_l0',\n",
    "                                         'weight_hh_l0',\n",
    "                                         'bias_ih_l0',\n",
    "                                         'bias_hh_l0',\n",
    "                                         'weight_ih_l1',\n",
    "                                         'weight_hh_l1',\n",
    "                                         'bias_ih_l1',\n",
    "                                         'bias_hh_l1']\n",
    "        \"\"\"\n",
    "        for param in module._flat_weights_names:\n",
    "            \n",
    "            if \"weight\" in param:\n",
    "                nn.init.xavier_uniform_(module._parameters[param])\n",
    "\n",
    "class Seq2SeqEncoder(Encoder):\n",
    "    def __init__(self, vocab_size, embed_size,\n",
    "                 num_hiddens, num_layers, dropout=0):\n",
    "        super().__init__()\n",
    "        # an embedding layer to obtain the feature vector for each token in the input sequence.\n",
    "        # The weight of an embedding layer is a matrix,\n",
    "        # number of rows corresponds to the size of the input vocabulary (vocab_size);\n",
    "        # number of columns corresponds to the feature vector’s dimension (embed_size).\n",
    "        # For any input token index i, the embedding layer fetches the i-th row (starting from 0) of the weight matrix to return its feature vector\n",
    "        self.embedding = nn.Embedding(vocab_size, embed_size)\n",
    "        self.rnn = GRU(embed_size, num_hiddens, num_layers, dropout)\n",
    "        self.apply(init_seq2seq)\n",
    "        \n",
    "\n",
    "    def forward(self, X, *args):\n",
    "        # X shape: (batch_size, num_steps)\n",
    "        embs = self.embedding(X.t().type(torch.int64))\n",
    "        # embs shape: (num_steps, batch_size, embed_size)\n",
    "        outputs, state = self.rnn(embs)\n",
    "        # outputs shape: (num_steps, batch_size, num_hiddens)\n",
    "        # state shape: (num_layers, batch_size, num_hiddens)\n",
    "        return outputs, state"
   ]
  },
  {
   "cell_type": "code",
   "execution_count": 53,
   "id": "baf74ecd",
   "metadata": {},
   "outputs": [],
   "source": [
    "# instantiate a two-layer GRU encoder whose number of hidden units is 16\n",
    "vocab_size, embed_size, num_hiddens, num_layers = 10, 8, 16, 2\n",
    "batch_size, num_steps = 4, 9\n",
    "encoder = Seq2SeqEncoder(vocab_size, embed_size, num_hiddens, num_layers)\n",
    "X = torch.zeros((batch_size, num_steps))\n",
    "enc_outputs, enc_state = encoder(X)"
   ]
  },
  {
   "cell_type": "code",
   "execution_count": 54,
   "id": "5fc4f144",
   "metadata": {},
   "outputs": [
    {
     "data": {
      "text/plain": [
       "(torch.Size([9, 4, 16]), torch.Size([2, 4, 16]))"
      ]
     },
     "execution_count": 54,
     "metadata": {},
     "output_type": "execute_result"
    }
   ],
   "source": [
    "enc_outputs.shape, enc_state.shape"
   ]
  },
  {
   "cell_type": "markdown",
   "id": "d9689c19",
   "metadata": {},
   "source": [
    "## Decoder "
   ]
  },
  {
   "cell_type": "code",
   "execution_count": null,
   "id": "b5439345",
   "metadata": {},
   "outputs": [],
   "source": [
    "class Seq2SeqDecoder(Decoder):\n",
    "    def __init__"
   ]
  }
 ],
 "metadata": {
  "kernelspec": {
   "display_name": "Python 3 (ipykernel)",
   "language": "python",
   "name": "python3"
  },
  "language_info": {
   "codemirror_mode": {
    "name": "ipython",
    "version": 3
   },
   "file_extension": ".py",
   "mimetype": "text/x-python",
   "name": "python",
   "nbconvert_exporter": "python",
   "pygments_lexer": "ipython3",
   "version": "3.10.0"
  },
  "toc": {
   "base_numbering": 1,
   "nav_menu": {},
   "number_sections": false,
   "sideBar": true,
   "skip_h1_title": false,
   "title_cell": "Table of Contents",
   "title_sidebar": "Contents",
   "toc_cell": false,
   "toc_position": {},
   "toc_section_display": true,
   "toc_window_display": false
  },
  "varInspector": {
   "cols": {
    "lenName": 16,
    "lenType": 16,
    "lenVar": 40
   },
   "kernels_config": {
    "python": {
     "delete_cmd_postfix": "",
     "delete_cmd_prefix": "del ",
     "library": "var_list.py",
     "varRefreshCmd": "print(var_dic_list())"
    },
    "r": {
     "delete_cmd_postfix": ") ",
     "delete_cmd_prefix": "rm(",
     "library": "var_list.r",
     "varRefreshCmd": "cat(var_dic_list()) "
    }
   },
   "types_to_exclude": [
    "module",
    "function",
    "builtin_function_or_method",
    "instance",
    "_Feature"
   ],
   "window_display": false
  }
 },
 "nbformat": 4,
 "nbformat_minor": 5
}
